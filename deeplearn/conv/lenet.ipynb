{
 "cells": [
  {
   "cell_type": "code",
   "execution_count": 68,
   "metadata": {
    "collapsed": true
   },
   "outputs": [],
   "source": [
    "import numpy as np\n",
    "import torch\n",
    "from matplotlib import pyplot as plt\n",
    "from torch import nn\n",
    "from d2l import torch as d2l\n",
    "from torchvision.transforms import transforms\n",
    "import torch.utils.data as Data"
   ]
  },
  {
   "cell_type": "code",
   "execution_count": 69,
   "outputs": [],
   "source": [
    "def corr2d(X, K):  #@save\n",
    "    \"\"\"计算二维互相关运算\"\"\"\n",
    "    h, w = K.shape\n",
    "    Y = torch.zeros((X.shape[0] - h + 1, X.shape[1] - w + 1))\n",
    "    for i in range(Y.shape[0]):\n",
    "        for j in range(Y.shape[1]):\n",
    "            Y[i, j] = (X[i:i + h, j:j + w] * K).sum()\n",
    "    return Y"
   ],
   "metadata": {
    "collapsed": false,
    "pycharm": {
     "name": "#%%\n"
    }
   }
  },
  {
   "cell_type": "code",
   "execution_count": 70,
   "outputs": [],
   "source": [
    "class Conv2D(nn.Module):\n",
    "    def __init__(self, kernel_size):\n",
    "        super().__init__()\n",
    "        self.weight = nn.Parameter(torch.rand(kernel_size))\n",
    "        self.bias = nn.Parameter(torch.zeros(1))\n",
    "\n",
    "    def forward(self, x):\n",
    "        return corr2d(x, self.weight) + self.bias"
   ],
   "metadata": {
    "collapsed": false,
    "pycharm": {
     "name": "#%%\n"
    }
   }
  },
  {
   "cell_type": "code",
   "execution_count": 71,
   "outputs": [],
   "source": [
    "#输入图像\n",
    "x = torch.zeros(6,6)\n",
    "for i in range(6):\n",
    "    x[i,i]=1\n",
    "#卷积核\n",
    "k = torch.tensor([[1.0,-1.0]])"
   ],
   "metadata": {
    "collapsed": false,
    "pycharm": {
     "name": "#%%\n"
    }
   }
  },
  {
   "cell_type": "code",
   "execution_count": 72,
   "outputs": [
    {
     "data": {
      "text/plain": "tensor([[ 1., -1.,  0.,  0.,  0.,  0.],\n        [ 0.,  1., -1.,  0.,  0.,  0.],\n        [ 0.,  0.,  1., -1.,  0.,  0.],\n        [ 0.,  0.,  0.,  1., -1.,  0.],\n        [ 0.,  0.,  0.,  0.,  1., -1.]])"
     },
     "execution_count": 72,
     "metadata": {},
     "output_type": "execute_result"
    }
   ],
   "source": [
    "y = corr2d(x.t(),k.t())\n",
    "y"
   ],
   "metadata": {
    "collapsed": false,
    "pycharm": {
     "name": "#%%\n"
    }
   }
  },
  {
   "cell_type": "code",
   "execution_count": 73,
   "outputs": [
    {
     "data": {
      "text/plain": "tensor([[ 1., -1.,  0.,  0.,  0.,  0.],\n        [ 0.,  1., -1.,  0.,  0.,  0.],\n        [ 0.,  0.,  1., -1.,  0.,  0.],\n        [ 0.,  0.,  0.,  1., -1.,  0.],\n        [ 0.,  0.,  0.,  0.,  1., -1.]])"
     },
     "execution_count": 73,
     "metadata": {},
     "output_type": "execute_result"
    }
   ],
   "source": [
    "y = corr2d(x,k.t())\n",
    "y"
   ],
   "metadata": {
    "collapsed": false,
    "pycharm": {
     "name": "#%%\n"
    }
   }
  },
  {
   "cell_type": "code",
   "execution_count": 74,
   "outputs": [],
   "source": [
    "#leNet网络\n",
    "lenet = nn.Sequential(\n",
    "    nn.Conv2d(1, 6, kernel_size=3, padding=2),nn.BatchNorm2d(6), nn.Sigmoid(),\n",
    "    nn.AvgPool2d(kernel_size=2, stride=2),\n",
    "    nn.Conv2d(6, 16, kernel_size=5,padding=0),nn.BatchNorm2d(16), nn.Sigmoid(),\n",
    "    nn.AvgPool2d(kernel_size=2, stride=1),\n",
    "    nn.Flatten(),\n",
    "    nn.Linear(16 * 10 * 10, 120),nn.BatchNorm1d(120), nn.Sigmoid(),\n",
    "    nn.Linear(120, 84), nn.BatchNorm1d(84),nn.Sigmoid(),\n",
    "    nn.Linear(84, 10))"
   ],
   "metadata": {
    "collapsed": false,
    "pycharm": {
     "name": "#%%\n"
    }
   }
  },
  {
   "cell_type": "code",
   "execution_count": 75,
   "outputs": [],
   "source": [
    "#leNet网络\n",
    "net = nn.Sequential(\n",
    "    nn.Conv2d(1, 6, kernel_size=5, padding=2), nn.Sigmoid(),\n",
    "    nn.AvgPool2d(kernel_size=2, stride=2),\n",
    "    nn.Conv2d(6, 16, kernel_size=5), nn.Sigmoid(),\n",
    "    nn.AvgPool2d(kernel_size=2, stride=2),\n",
    "    nn.Flatten(),\n",
    "    nn.Linear(16 * 5 * 5, 120), nn.Sigmoid(),\n",
    "    nn.Linear(120, 84), nn.Sigmoid(),\n",
    "    nn.Linear(84, 10))"
   ],
   "metadata": {
    "collapsed": false,
    "pycharm": {
     "name": "#%%\n"
    }
   }
  },
  {
   "cell_type": "code",
   "execution_count": 76,
   "outputs": [
    {
     "name": "stdout",
     "output_type": "stream",
     "text": [
      "Sequential(\n",
      "  (0): Conv2d(1, 6, kernel_size=(3, 3), stride=(1, 1), padding=(2, 2))\n",
      "  (1): BatchNorm2d(6, eps=1e-05, momentum=0.1, affine=True, track_running_stats=True)\n",
      "  (2): Sigmoid()\n",
      "  (3): AvgPool2d(kernel_size=2, stride=2, padding=0)\n",
      "  (4): Conv2d(6, 16, kernel_size=(5, 5), stride=(1, 1))\n",
      "  (5): BatchNorm2d(16, eps=1e-05, momentum=0.1, affine=True, track_running_stats=True)\n",
      "  (6): Sigmoid()\n",
      "  (7): AvgPool2d(kernel_size=2, stride=1, padding=0)\n",
      "  (8): Flatten(start_dim=1, end_dim=-1)\n",
      "  (9): Linear(in_features=1600, out_features=120, bias=True)\n",
      "  (10): BatchNorm1d(120, eps=1e-05, momentum=0.1, affine=True, track_running_stats=True)\n",
      "  (11): Sigmoid()\n",
      "  (12): Linear(in_features=120, out_features=84, bias=True)\n",
      "  (13): BatchNorm1d(84, eps=1e-05, momentum=0.1, affine=True, track_running_stats=True)\n",
      "  (14): Sigmoid()\n",
      "  (15): Linear(in_features=84, out_features=10, bias=True)\n",
      ")\n"
     ]
    }
   ],
   "source": [
    "print(lenet)"
   ],
   "metadata": {
    "collapsed": false,
    "pycharm": {
     "name": "#%%\n"
    }
   }
  },
  {
   "cell_type": "code",
   "execution_count": 77,
   "outputs": [],
   "source": [
    "#下载数据\n",
    "batch_size = 256\n",
    "train_iter, test_iter = d2l.load_data_fashion_mnist(batch_size=batch_size)"
   ],
   "metadata": {
    "collapsed": false,
    "pycharm": {
     "name": "#%%\n"
    }
   }
  },
  {
   "cell_type": "code",
   "execution_count": 78,
   "outputs": [],
   "source": [
    "# for i,(x,y) in enumerate(train_iter):\n",
    "#     print(x.shape)"
   ],
   "metadata": {
    "collapsed": false,
    "pycharm": {
     "name": "#%%\n"
    }
   }
  },
  {
   "cell_type": "code",
   "execution_count": 79,
   "outputs": [],
   "source": [
    "#测试精度\n",
    "def evaluate_accuracy_gpu(net, data_iter, device=None): #@save\n",
    "    \"\"\"使用GPU计算模型在数据集上的精度\"\"\"\n",
    "    if isinstance(net, nn.Module):\n",
    "        net.eval()  # 设置为评估模式\n",
    "        if not device:\n",
    "            device = next(iter(net.parameters())).device\n",
    "    # 正确预测的数量，总预测的数量\n",
    "    metric = d2l.Accumulator(2)\n",
    "    with torch.no_grad():\n",
    "        for X, y in data_iter:\n",
    "            if isinstance(X, list):\n",
    "                # BERT微调所需的（之后将介绍）\n",
    "                X = [x.to(device) for x in X]\n",
    "            else:\n",
    "                X = X.to(device)\n",
    "            y = y.to(device)\n",
    "            metric.add(d2l.accuracy(net(X), y), y.numel())\n",
    "    return metric[0] / metric[1]"
   ],
   "metadata": {
    "collapsed": false,
    "pycharm": {
     "name": "#%%\n"
    }
   }
  },
  {
   "cell_type": "code",
   "execution_count": 80,
   "outputs": [],
   "source": [
    "#训练\n",
    "#@save\n",
    "def train_ch6(net, train_iter, test_iter, num_epochs, lr, device):\n",
    "    \"\"\"用GPU训练模型(在第六章定义)\"\"\"\n",
    "    def init_weights(m):\n",
    "        if type(m) == nn.Linear or type(m) == nn.Conv2d:\n",
    "            nn.init.xavier_uniform_(m.weight)\n",
    "    net.apply(init_weights)\n",
    "    print('training on', device)\n",
    "    net.to(device)\n",
    "    optimizer = torch.optim.SGD(net.parameters(), lr=lr)\n",
    "    loss = nn.CrossEntropyLoss()\n",
    "    animator = d2l.Animator(xlabel='epoch', xlim=[1, num_epochs],\n",
    "                            legend=['train loss', 'train acc', 'test acc'])\n",
    "    timer, num_batches = d2l.Timer(), len(train_iter)\n",
    "    for epoch in range(num_epochs):\n",
    "        # 训练损失之和，训练准确率之和，样本数\n",
    "        metric = d2l.Accumulator(3)\n",
    "        net.train()\n",
    "        for i, (X, y) in enumerate(train_iter):\n",
    "            timer.start()\n",
    "            optimizer.zero_grad()\n",
    "            X, y = X.to(device), y.to(device)\n",
    "            y_hat = net(X)\n",
    "            l = loss(y_hat, y)\n",
    "            l.backward()\n",
    "            optimizer.step()\n",
    "            with torch.no_grad():\n",
    "                metric.add(l * X.shape[0], d2l.accuracy(y_hat, y), X.shape[0])\n",
    "            timer.stop()\n",
    "            train_l = metric[0] / metric[2]\n",
    "            train_acc = metric[1] / metric[2]\n",
    "            if (i + 1) % (num_batches // 5) == 0 or i == num_batches - 1:\n",
    "                animator.add(epoch + (i + 1) / num_batches,\n",
    "                             (train_l, train_acc, None))\n",
    "        test_acc = evaluate_accuracy_gpu(net, test_iter)\n",
    "        animator.add(epoch + 1, (None, None, test_acc))\n",
    "    f = open('output','a')\n",
    "    f.write(str(net)+'\\n')\n",
    "    f.write(f'loss {train_l:.3f}, train acc {train_acc:.3f}, '\n",
    "          f'test acc {test_acc:.3f}'+'\\n')\n",
    "    print(f'loss {train_l:.3f}, train acc {train_acc:.3f}, '\n",
    "          f'test acc {test_acc:.3f}')\n",
    "    print(f'{metric[2] * num_epochs / timer.sum():.1f} examples/sec '\n",
    "          f'on {str(device)}')"
   ],
   "metadata": {
    "collapsed": false,
    "pycharm": {
     "name": "#%%\n"
    }
   }
  },
  {
   "cell_type": "code",
   "execution_count": 81,
   "outputs": [
    {
     "name": "stdout",
     "output_type": "stream",
     "text": [
      "loss 0.226, train acc 0.917, test acc 0.877\n",
      "2411.9 examples/sec on cpu\n"
     ]
    },
    {
     "data": {
      "text/plain": "<Figure size 350x250 with 1 Axes>",
      "image/svg+xml": "<?xml version=\"1.0\" encoding=\"utf-8\" standalone=\"no\"?>\n<!DOCTYPE svg PUBLIC \"-//W3C//DTD SVG 1.1//EN\"\n  \"http://www.w3.org/Graphics/SVG/1.1/DTD/svg11.dtd\">\n<svg xmlns:xlink=\"http://www.w3.org/1999/xlink\" width=\"238.965625pt\" height=\"183.35625pt\" viewBox=\"0 0 238.965625 183.35625\" xmlns=\"http://www.w3.org/2000/svg\" version=\"1.1\">\n <metadata>\n  <rdf:RDF xmlns:dc=\"http://purl.org/dc/elements/1.1/\" xmlns:cc=\"http://creativecommons.org/ns#\" xmlns:rdf=\"http://www.w3.org/1999/02/22-rdf-syntax-ns#\">\n   <cc:Work>\n    <dc:type rdf:resource=\"http://purl.org/dc/dcmitype/StillImage\"/>\n    <dc:date>2023-03-23T16:57:15.139969</dc:date>\n    <dc:format>image/svg+xml</dc:format>\n    <dc:creator>\n     <cc:Agent>\n      <dc:title>Matplotlib v3.5.1, https://matplotlib.org/</dc:title>\n     </cc:Agent>\n    </dc:creator>\n   </cc:Work>\n  </rdf:RDF>\n </metadata>\n <defs>\n  <style type=\"text/css\">*{stroke-linejoin: round; stroke-linecap: butt}</style>\n </defs>\n <g id=\"figure_1\">\n  <g id=\"patch_1\">\n   <path d=\"M 0 183.35625 \nL 238.965625 183.35625 \nL 238.965625 0 \nL 0 0 \nz\n\" style=\"fill: #ffffff\"/>\n  </g>\n  <g id=\"axes_1\">\n   <g id=\"patch_2\">\n    <path d=\"M 30.103125 145.8 \nL 225.403125 145.8 \nL 225.403125 7.2 \nL 30.103125 7.2 \nz\n\" style=\"fill: #ffffff\"/>\n   </g>\n   <g id=\"matplotlib.axis_1\">\n    <g id=\"xtick_1\">\n     <g id=\"line2d_1\">\n      <path d=\"M 51.803125 145.8 \nL 51.803125 7.2 \n\" clip-path=\"url(#p7259c5f536)\" style=\"fill: none; stroke: #b0b0b0; stroke-width: 0.8; stroke-linecap: square\"/>\n     </g>\n     <g id=\"line2d_2\">\n      <defs>\n       <path id=\"m6de74d0677\" d=\"M 0 0 \nL 0 3.5 \n\" style=\"stroke: #000000; stroke-width: 0.8\"/>\n      </defs>\n      <g>\n       <use xlink:href=\"#m6de74d0677\" x=\"51.803125\" y=\"145.8\" style=\"stroke: #000000; stroke-width: 0.8\"/>\n      </g>\n     </g>\n     <g id=\"text_1\">\n      <!-- 2 -->\n      <g transform=\"translate(48.621875 160.398438)scale(0.1 -0.1)\">\n       <defs>\n        <path id=\"DejaVuSans-32\" d=\"M 1228 531 \nL 3431 531 \nL 3431 0 \nL 469 0 \nL 469 531 \nQ 828 903 1448 1529 \nQ 2069 2156 2228 2338 \nQ 2531 2678 2651 2914 \nQ 2772 3150 2772 3378 \nQ 2772 3750 2511 3984 \nQ 2250 4219 1831 4219 \nQ 1534 4219 1204 4116 \nQ 875 4013 500 3803 \nL 500 4441 \nQ 881 4594 1212 4672 \nQ 1544 4750 1819 4750 \nQ 2544 4750 2975 4387 \nQ 3406 4025 3406 3419 \nQ 3406 3131 3298 2873 \nQ 3191 2616 2906 2266 \nQ 2828 2175 2409 1742 \nQ 1991 1309 1228 531 \nz\n\" transform=\"scale(0.015625)\"/>\n       </defs>\n       <use xlink:href=\"#DejaVuSans-32\"/>\n      </g>\n     </g>\n    </g>\n    <g id=\"xtick_2\">\n     <g id=\"line2d_3\">\n      <path d=\"M 95.203125 145.8 \nL 95.203125 7.2 \n\" clip-path=\"url(#p7259c5f536)\" style=\"fill: none; stroke: #b0b0b0; stroke-width: 0.8; stroke-linecap: square\"/>\n     </g>\n     <g id=\"line2d_4\">\n      <g>\n       <use xlink:href=\"#m6de74d0677\" x=\"95.203125\" y=\"145.8\" style=\"stroke: #000000; stroke-width: 0.8\"/>\n      </g>\n     </g>\n     <g id=\"text_2\">\n      <!-- 4 -->\n      <g transform=\"translate(92.021875 160.398438)scale(0.1 -0.1)\">\n       <defs>\n        <path id=\"DejaVuSans-34\" d=\"M 2419 4116 \nL 825 1625 \nL 2419 1625 \nL 2419 4116 \nz\nM 2253 4666 \nL 3047 4666 \nL 3047 1625 \nL 3713 1625 \nL 3713 1100 \nL 3047 1100 \nL 3047 0 \nL 2419 0 \nL 2419 1100 \nL 313 1100 \nL 313 1709 \nL 2253 4666 \nz\n\" transform=\"scale(0.015625)\"/>\n       </defs>\n       <use xlink:href=\"#DejaVuSans-34\"/>\n      </g>\n     </g>\n    </g>\n    <g id=\"xtick_3\">\n     <g id=\"line2d_5\">\n      <path d=\"M 138.603125 145.8 \nL 138.603125 7.2 \n\" clip-path=\"url(#p7259c5f536)\" style=\"fill: none; stroke: #b0b0b0; stroke-width: 0.8; stroke-linecap: square\"/>\n     </g>\n     <g id=\"line2d_6\">\n      <g>\n       <use xlink:href=\"#m6de74d0677\" x=\"138.603125\" y=\"145.8\" style=\"stroke: #000000; stroke-width: 0.8\"/>\n      </g>\n     </g>\n     <g id=\"text_3\">\n      <!-- 6 -->\n      <g transform=\"translate(135.421875 160.398438)scale(0.1 -0.1)\">\n       <defs>\n        <path id=\"DejaVuSans-36\" d=\"M 2113 2584 \nQ 1688 2584 1439 2293 \nQ 1191 2003 1191 1497 \nQ 1191 994 1439 701 \nQ 1688 409 2113 409 \nQ 2538 409 2786 701 \nQ 3034 994 3034 1497 \nQ 3034 2003 2786 2293 \nQ 2538 2584 2113 2584 \nz\nM 3366 4563 \nL 3366 3988 \nQ 3128 4100 2886 4159 \nQ 2644 4219 2406 4219 \nQ 1781 4219 1451 3797 \nQ 1122 3375 1075 2522 \nQ 1259 2794 1537 2939 \nQ 1816 3084 2150 3084 \nQ 2853 3084 3261 2657 \nQ 3669 2231 3669 1497 \nQ 3669 778 3244 343 \nQ 2819 -91 2113 -91 \nQ 1303 -91 875 529 \nQ 447 1150 447 2328 \nQ 447 3434 972 4092 \nQ 1497 4750 2381 4750 \nQ 2619 4750 2861 4703 \nQ 3103 4656 3366 4563 \nz\n\" transform=\"scale(0.015625)\"/>\n       </defs>\n       <use xlink:href=\"#DejaVuSans-36\"/>\n      </g>\n     </g>\n    </g>\n    <g id=\"xtick_4\">\n     <g id=\"line2d_7\">\n      <path d=\"M 182.003125 145.8 \nL 182.003125 7.2 \n\" clip-path=\"url(#p7259c5f536)\" style=\"fill: none; stroke: #b0b0b0; stroke-width: 0.8; stroke-linecap: square\"/>\n     </g>\n     <g id=\"line2d_8\">\n      <g>\n       <use xlink:href=\"#m6de74d0677\" x=\"182.003125\" y=\"145.8\" style=\"stroke: #000000; stroke-width: 0.8\"/>\n      </g>\n     </g>\n     <g id=\"text_4\">\n      <!-- 8 -->\n      <g transform=\"translate(178.821875 160.398438)scale(0.1 -0.1)\">\n       <defs>\n        <path id=\"DejaVuSans-38\" d=\"M 2034 2216 \nQ 1584 2216 1326 1975 \nQ 1069 1734 1069 1313 \nQ 1069 891 1326 650 \nQ 1584 409 2034 409 \nQ 2484 409 2743 651 \nQ 3003 894 3003 1313 \nQ 3003 1734 2745 1975 \nQ 2488 2216 2034 2216 \nz\nM 1403 2484 \nQ 997 2584 770 2862 \nQ 544 3141 544 3541 \nQ 544 4100 942 4425 \nQ 1341 4750 2034 4750 \nQ 2731 4750 3128 4425 \nQ 3525 4100 3525 3541 \nQ 3525 3141 3298 2862 \nQ 3072 2584 2669 2484 \nQ 3125 2378 3379 2068 \nQ 3634 1759 3634 1313 \nQ 3634 634 3220 271 \nQ 2806 -91 2034 -91 \nQ 1263 -91 848 271 \nQ 434 634 434 1313 \nQ 434 1759 690 2068 \nQ 947 2378 1403 2484 \nz\nM 1172 3481 \nQ 1172 3119 1398 2916 \nQ 1625 2713 2034 2713 \nQ 2441 2713 2670 2916 \nQ 2900 3119 2900 3481 \nQ 2900 3844 2670 4047 \nQ 2441 4250 2034 4250 \nQ 1625 4250 1398 4047 \nQ 1172 3844 1172 3481 \nz\n\" transform=\"scale(0.015625)\"/>\n       </defs>\n       <use xlink:href=\"#DejaVuSans-38\"/>\n      </g>\n     </g>\n    </g>\n    <g id=\"xtick_5\">\n     <g id=\"line2d_9\">\n      <path d=\"M 225.403125 145.8 \nL 225.403125 7.2 \n\" clip-path=\"url(#p7259c5f536)\" style=\"fill: none; stroke: #b0b0b0; stroke-width: 0.8; stroke-linecap: square\"/>\n     </g>\n     <g id=\"line2d_10\">\n      <g>\n       <use xlink:href=\"#m6de74d0677\" x=\"225.403125\" y=\"145.8\" style=\"stroke: #000000; stroke-width: 0.8\"/>\n      </g>\n     </g>\n     <g id=\"text_5\">\n      <!-- 10 -->\n      <g transform=\"translate(219.040625 160.398438)scale(0.1 -0.1)\">\n       <defs>\n        <path id=\"DejaVuSans-31\" d=\"M 794 531 \nL 1825 531 \nL 1825 4091 \nL 703 3866 \nL 703 4441 \nL 1819 4666 \nL 2450 4666 \nL 2450 531 \nL 3481 531 \nL 3481 0 \nL 794 0 \nL 794 531 \nz\n\" transform=\"scale(0.015625)\"/>\n        <path id=\"DejaVuSans-30\" d=\"M 2034 4250 \nQ 1547 4250 1301 3770 \nQ 1056 3291 1056 2328 \nQ 1056 1369 1301 889 \nQ 1547 409 2034 409 \nQ 2525 409 2770 889 \nQ 3016 1369 3016 2328 \nQ 3016 3291 2770 3770 \nQ 2525 4250 2034 4250 \nz\nM 2034 4750 \nQ 2819 4750 3233 4129 \nQ 3647 3509 3647 2328 \nQ 3647 1150 3233 529 \nQ 2819 -91 2034 -91 \nQ 1250 -91 836 529 \nQ 422 1150 422 2328 \nQ 422 3509 836 4129 \nQ 1250 4750 2034 4750 \nz\n\" transform=\"scale(0.015625)\"/>\n       </defs>\n       <use xlink:href=\"#DejaVuSans-31\"/>\n       <use xlink:href=\"#DejaVuSans-30\" x=\"63.623047\"/>\n      </g>\n     </g>\n    </g>\n    <g id=\"text_6\">\n     <!-- epoch -->\n     <g transform=\"translate(112.525 174.076563)scale(0.1 -0.1)\">\n      <defs>\n       <path id=\"DejaVuSans-65\" d=\"M 3597 1894 \nL 3597 1613 \nL 953 1613 \nQ 991 1019 1311 708 \nQ 1631 397 2203 397 \nQ 2534 397 2845 478 \nQ 3156 559 3463 722 \nL 3463 178 \nQ 3153 47 2828 -22 \nQ 2503 -91 2169 -91 \nQ 1331 -91 842 396 \nQ 353 884 353 1716 \nQ 353 2575 817 3079 \nQ 1281 3584 2069 3584 \nQ 2775 3584 3186 3129 \nQ 3597 2675 3597 1894 \nz\nM 3022 2063 \nQ 3016 2534 2758 2815 \nQ 2500 3097 2075 3097 \nQ 1594 3097 1305 2825 \nQ 1016 2553 972 2059 \nL 3022 2063 \nz\n\" transform=\"scale(0.015625)\"/>\n       <path id=\"DejaVuSans-70\" d=\"M 1159 525 \nL 1159 -1331 \nL 581 -1331 \nL 581 3500 \nL 1159 3500 \nL 1159 2969 \nQ 1341 3281 1617 3432 \nQ 1894 3584 2278 3584 \nQ 2916 3584 3314 3078 \nQ 3713 2572 3713 1747 \nQ 3713 922 3314 415 \nQ 2916 -91 2278 -91 \nQ 1894 -91 1617 61 \nQ 1341 213 1159 525 \nz\nM 3116 1747 \nQ 3116 2381 2855 2742 \nQ 2594 3103 2138 3103 \nQ 1681 3103 1420 2742 \nQ 1159 2381 1159 1747 \nQ 1159 1113 1420 752 \nQ 1681 391 2138 391 \nQ 2594 391 2855 752 \nQ 3116 1113 3116 1747 \nz\n\" transform=\"scale(0.015625)\"/>\n       <path id=\"DejaVuSans-6f\" d=\"M 1959 3097 \nQ 1497 3097 1228 2736 \nQ 959 2375 959 1747 \nQ 959 1119 1226 758 \nQ 1494 397 1959 397 \nQ 2419 397 2687 759 \nQ 2956 1122 2956 1747 \nQ 2956 2369 2687 2733 \nQ 2419 3097 1959 3097 \nz\nM 1959 3584 \nQ 2709 3584 3137 3096 \nQ 3566 2609 3566 1747 \nQ 3566 888 3137 398 \nQ 2709 -91 1959 -91 \nQ 1206 -91 779 398 \nQ 353 888 353 1747 \nQ 353 2609 779 3096 \nQ 1206 3584 1959 3584 \nz\n\" transform=\"scale(0.015625)\"/>\n       <path id=\"DejaVuSans-63\" d=\"M 3122 3366 \nL 3122 2828 \nQ 2878 2963 2633 3030 \nQ 2388 3097 2138 3097 \nQ 1578 3097 1268 2742 \nQ 959 2388 959 1747 \nQ 959 1106 1268 751 \nQ 1578 397 2138 397 \nQ 2388 397 2633 464 \nQ 2878 531 3122 666 \nL 3122 134 \nQ 2881 22 2623 -34 \nQ 2366 -91 2075 -91 \nQ 1284 -91 818 406 \nQ 353 903 353 1747 \nQ 353 2603 823 3093 \nQ 1294 3584 2113 3584 \nQ 2378 3584 2631 3529 \nQ 2884 3475 3122 3366 \nz\n\" transform=\"scale(0.015625)\"/>\n       <path id=\"DejaVuSans-68\" d=\"M 3513 2113 \nL 3513 0 \nL 2938 0 \nL 2938 2094 \nQ 2938 2591 2744 2837 \nQ 2550 3084 2163 3084 \nQ 1697 3084 1428 2787 \nQ 1159 2491 1159 1978 \nL 1159 0 \nL 581 0 \nL 581 4863 \nL 1159 4863 \nL 1159 2956 \nQ 1366 3272 1645 3428 \nQ 1925 3584 2291 3584 \nQ 2894 3584 3203 3211 \nQ 3513 2838 3513 2113 \nz\n\" transform=\"scale(0.015625)\"/>\n      </defs>\n      <use xlink:href=\"#DejaVuSans-65\"/>\n      <use xlink:href=\"#DejaVuSans-70\" x=\"61.523438\"/>\n      <use xlink:href=\"#DejaVuSans-6f\" x=\"125\"/>\n      <use xlink:href=\"#DejaVuSans-63\" x=\"186.181641\"/>\n      <use xlink:href=\"#DejaVuSans-68\" x=\"241.162109\"/>\n     </g>\n    </g>\n   </g>\n   <g id=\"matplotlib.axis_2\">\n    <g id=\"ytick_1\">\n     <g id=\"line2d_11\">\n      <path d=\"M 30.103125 142.63417 \nL 225.403125 142.63417 \n\" clip-path=\"url(#p7259c5f536)\" style=\"fill: none; stroke: #b0b0b0; stroke-width: 0.8; stroke-linecap: square\"/>\n     </g>\n     <g id=\"line2d_12\">\n      <defs>\n       <path id=\"me793c2d923\" d=\"M 0 0 \nL -3.5 0 \n\" style=\"stroke: #000000; stroke-width: 0.8\"/>\n      </defs>\n      <g>\n       <use xlink:href=\"#me793c2d923\" x=\"30.103125\" y=\"142.63417\" style=\"stroke: #000000; stroke-width: 0.8\"/>\n      </g>\n     </g>\n     <g id=\"text_7\">\n      <!-- 0.2 -->\n      <g transform=\"translate(7.2 146.433388)scale(0.1 -0.1)\">\n       <defs>\n        <path id=\"DejaVuSans-2e\" d=\"M 684 794 \nL 1344 794 \nL 1344 0 \nL 684 0 \nL 684 794 \nz\n\" transform=\"scale(0.015625)\"/>\n       </defs>\n       <use xlink:href=\"#DejaVuSans-30\"/>\n       <use xlink:href=\"#DejaVuSans-2e\" x=\"63.623047\"/>\n       <use xlink:href=\"#DejaVuSans-32\" x=\"95.410156\"/>\n      </g>\n     </g>\n    </g>\n    <g id=\"ytick_2\">\n     <g id=\"line2d_13\">\n      <path d=\"M 30.103125 112.388719 \nL 225.403125 112.388719 \n\" clip-path=\"url(#p7259c5f536)\" style=\"fill: none; stroke: #b0b0b0; stroke-width: 0.8; stroke-linecap: square\"/>\n     </g>\n     <g id=\"line2d_14\">\n      <g>\n       <use xlink:href=\"#me793c2d923\" x=\"30.103125\" y=\"112.388719\" style=\"stroke: #000000; stroke-width: 0.8\"/>\n      </g>\n     </g>\n     <g id=\"text_8\">\n      <!-- 0.4 -->\n      <g transform=\"translate(7.2 116.187938)scale(0.1 -0.1)\">\n       <use xlink:href=\"#DejaVuSans-30\"/>\n       <use xlink:href=\"#DejaVuSans-2e\" x=\"63.623047\"/>\n       <use xlink:href=\"#DejaVuSans-34\" x=\"95.410156\"/>\n      </g>\n     </g>\n    </g>\n    <g id=\"ytick_3\">\n     <g id=\"line2d_15\">\n      <path d=\"M 30.103125 82.143269 \nL 225.403125 82.143269 \n\" clip-path=\"url(#p7259c5f536)\" style=\"fill: none; stroke: #b0b0b0; stroke-width: 0.8; stroke-linecap: square\"/>\n     </g>\n     <g id=\"line2d_16\">\n      <g>\n       <use xlink:href=\"#me793c2d923\" x=\"30.103125\" y=\"82.143269\" style=\"stroke: #000000; stroke-width: 0.8\"/>\n      </g>\n     </g>\n     <g id=\"text_9\">\n      <!-- 0.6 -->\n      <g transform=\"translate(7.2 85.942488)scale(0.1 -0.1)\">\n       <use xlink:href=\"#DejaVuSans-30\"/>\n       <use xlink:href=\"#DejaVuSans-2e\" x=\"63.623047\"/>\n       <use xlink:href=\"#DejaVuSans-36\" x=\"95.410156\"/>\n      </g>\n     </g>\n    </g>\n    <g id=\"ytick_4\">\n     <g id=\"line2d_17\">\n      <path d=\"M 30.103125 51.897819 \nL 225.403125 51.897819 \n\" clip-path=\"url(#p7259c5f536)\" style=\"fill: none; stroke: #b0b0b0; stroke-width: 0.8; stroke-linecap: square\"/>\n     </g>\n     <g id=\"line2d_18\">\n      <g>\n       <use xlink:href=\"#me793c2d923\" x=\"30.103125\" y=\"51.897819\" style=\"stroke: #000000; stroke-width: 0.8\"/>\n      </g>\n     </g>\n     <g id=\"text_10\">\n      <!-- 0.8 -->\n      <g transform=\"translate(7.2 55.697038)scale(0.1 -0.1)\">\n       <use xlink:href=\"#DejaVuSans-30\"/>\n       <use xlink:href=\"#DejaVuSans-2e\" x=\"63.623047\"/>\n       <use xlink:href=\"#DejaVuSans-38\" x=\"95.410156\"/>\n      </g>\n     </g>\n    </g>\n    <g id=\"ytick_5\">\n     <g id=\"line2d_19\">\n      <path d=\"M 30.103125 21.652369 \nL 225.403125 21.652369 \n\" clip-path=\"url(#p7259c5f536)\" style=\"fill: none; stroke: #b0b0b0; stroke-width: 0.8; stroke-linecap: square\"/>\n     </g>\n     <g id=\"line2d_20\">\n      <g>\n       <use xlink:href=\"#me793c2d923\" x=\"30.103125\" y=\"21.652369\" style=\"stroke: #000000; stroke-width: 0.8\"/>\n      </g>\n     </g>\n     <g id=\"text_11\">\n      <!-- 1.0 -->\n      <g transform=\"translate(7.2 25.451587)scale(0.1 -0.1)\">\n       <use xlink:href=\"#DejaVuSans-31\"/>\n       <use xlink:href=\"#DejaVuSans-2e\" x=\"63.623047\"/>\n       <use xlink:href=\"#DejaVuSans-30\" x=\"95.410156\"/>\n      </g>\n     </g>\n    </g>\n   </g>\n   <g id=\"line2d_21\">\n    <path d=\"M 12.743125 13.5 \nL 17.083125 40.659426 \nL 21.423125 55.569183 \nL 25.763125 65.320145 \nL 30.103125 71.262468 \nL 34.443125 101.691927 \nL 38.783125 102.893678 \nL 43.123125 104.692356 \nL 47.463125 106.644932 \nL 51.803125 107.813321 \nL 56.143125 115.14273 \nL 60.483125 116.346739 \nL 64.823125 117.364399 \nL 69.163125 118.140922 \nL 73.503125 119.337322 \nL 77.843125 121.818475 \nL 82.183125 122.467195 \nL 86.523125 123.013021 \nL 90.863125 123.541743 \nL 95.203125 124.024534 \nL 99.543125 128.463211 \nL 103.883125 127.138298 \nL 108.223125 127.777639 \nL 112.563125 128.185298 \nL 116.903125 128.077132 \nL 121.243125 131.415096 \nL 125.583125 129.917015 \nL 129.923125 130.417546 \nL 134.263125 130.138366 \nL 138.603125 130.474857 \nL 142.943125 131.336327 \nL 147.283125 132.806961 \nL 151.623125 133.413852 \nL 155.963125 133.428346 \nL 160.303125 133.462424 \nL 164.643125 136.363604 \nL 168.983125 134.38953 \nL 173.323125 135.346238 \nL 177.663125 135.454001 \nL 182.003125 135.461852 \nL 186.343125 137.838974 \nL 190.683125 136.19298 \nL 195.023125 136.984399 \nL 199.363125 137.138509 \nL 203.703125 137.10643 \nL 208.043125 139.154484 \nL 212.383125 139.5 \nL 216.723125 138.849384 \nL 221.063125 138.714437 \nL 225.403125 138.699508 \n\" clip-path=\"url(#p7259c5f536)\" style=\"fill: none; stroke: #1f77b4; stroke-width: 1.5; stroke-linecap: square\"/>\n   </g>\n   <g id=\"line2d_22\">\n    <path d=\"M 12.743125 78.186625 \nL 17.083125 68.785197 \nL 21.423125 63.640387 \nL 25.763125 60.194454 \nL 30.103125 58.183832 \nL 34.443125 47.16694 \nL 38.783125 46.846437 \nL 43.123125 46.178198 \nL 47.463125 45.476442 \nL 51.803125 45.125359 \nL 56.143125 42.466226 \nL 60.483125 42.101732 \nL 64.823125 41.770755 \nL 69.163125 41.473294 \nL 73.503125 41.049784 \nL 77.843125 40.279263 \nL 82.183125 40.065594 \nL 86.523125 39.776512 \nL 90.863125 39.559701 \nL 95.203125 39.469459 \nL 99.543125 37.752943 \nL 103.883125 38.356243 \nL 108.223125 38.092299 \nL 112.563125 38.016887 \nL 116.903125 38.113455 \nL 121.243125 36.910836 \nL 125.583125 37.27533 \nL 129.923125 37.191539 \nL 134.263125 37.426155 \nL 138.603125 37.25146 \nL 142.943125 37.225055 \nL 147.283125 36.294967 \nL 151.623125 36.051972 \nL 155.963125 36.166138 \nL 160.303125 36.175226 \nL 164.643125 34.924973 \nL 168.983125 35.741942 \nL 173.323125 35.436103 \nL 177.663125 35.434008 \nL 182.003125 35.456896 \nL 186.343125 34.673598 \nL 190.683125 35.327173 \nL 195.023125 34.9543 \nL 199.363125 34.789859 \nL 203.703125 34.846946 \nL 208.043125 33.504704 \nL 212.383125 33.630392 \nL 216.723125 34.020023 \nL 221.063125 34.155137 \nL 225.403125 34.179026 \n\" clip-path=\"url(#p7259c5f536)\" style=\"fill: none; stroke-dasharray: 5.55,2.4; stroke-dashoffset: 0; stroke: #bf00bf; stroke-width: 1.5\"/>\n   </g>\n   <g id=\"line2d_23\">\n    <path d=\"M 30.103125 56.0112 \nL 51.803125 50.612387 \nL 73.503125 69.682144 \nL 95.203125 58.703045 \nL 116.903125 91.0808 \nL 138.603125 41.931943 \nL 160.303125 60.653877 \nL 182.003125 53.334478 \nL 203.703125 46.378024 \nL 225.403125 40.268443 \n\" clip-path=\"url(#p7259c5f536)\" style=\"fill: none; stroke-dasharray: 9.6,2.4,1.5,2.4; stroke-dashoffset: 0; stroke: #008000; stroke-width: 1.5\"/>\n   </g>\n   <g id=\"patch_3\">\n    <path d=\"M 30.103125 145.8 \nL 30.103125 7.2 \n\" style=\"fill: none; stroke: #000000; stroke-width: 0.8; stroke-linejoin: miter; stroke-linecap: square\"/>\n   </g>\n   <g id=\"patch_4\">\n    <path d=\"M 225.403125 145.8 \nL 225.403125 7.2 \n\" style=\"fill: none; stroke: #000000; stroke-width: 0.8; stroke-linejoin: miter; stroke-linecap: square\"/>\n   </g>\n   <g id=\"patch_5\">\n    <path d=\"M 30.103125 145.8 \nL 225.403125 145.8 \n\" style=\"fill: none; stroke: #000000; stroke-width: 0.8; stroke-linejoin: miter; stroke-linecap: square\"/>\n   </g>\n   <g id=\"patch_6\">\n    <path d=\"M 30.103125 7.2 \nL 225.403125 7.2 \n\" style=\"fill: none; stroke: #000000; stroke-width: 0.8; stroke-linejoin: miter; stroke-linecap: square\"/>\n   </g>\n   <g id=\"legend_1\">\n    <g id=\"patch_7\">\n     <path d=\"M 140.634375 100.017188 \nL 218.403125 100.017188 \nQ 220.403125 100.017188 220.403125 98.017188 \nL 220.403125 54.982812 \nQ 220.403125 52.982812 218.403125 52.982812 \nL 140.634375 52.982812 \nQ 138.634375 52.982812 138.634375 54.982812 \nL 138.634375 98.017188 \nQ 138.634375 100.017188 140.634375 100.017188 \nz\n\" style=\"fill: #ffffff; opacity: 0.8; stroke: #cccccc; stroke-linejoin: miter\"/>\n    </g>\n    <g id=\"line2d_24\">\n     <path d=\"M 142.634375 61.08125 \nL 152.634375 61.08125 \nL 162.634375 61.08125 \n\" style=\"fill: none; stroke: #1f77b4; stroke-width: 1.5; stroke-linecap: square\"/>\n    </g>\n    <g id=\"text_12\">\n     <!-- train loss -->\n     <g transform=\"translate(170.634375 64.58125)scale(0.1 -0.1)\">\n      <defs>\n       <path id=\"DejaVuSans-74\" d=\"M 1172 4494 \nL 1172 3500 \nL 2356 3500 \nL 2356 3053 \nL 1172 3053 \nL 1172 1153 \nQ 1172 725 1289 603 \nQ 1406 481 1766 481 \nL 2356 481 \nL 2356 0 \nL 1766 0 \nQ 1100 0 847 248 \nQ 594 497 594 1153 \nL 594 3053 \nL 172 3053 \nL 172 3500 \nL 594 3500 \nL 594 4494 \nL 1172 4494 \nz\n\" transform=\"scale(0.015625)\"/>\n       <path id=\"DejaVuSans-72\" d=\"M 2631 2963 \nQ 2534 3019 2420 3045 \nQ 2306 3072 2169 3072 \nQ 1681 3072 1420 2755 \nQ 1159 2438 1159 1844 \nL 1159 0 \nL 581 0 \nL 581 3500 \nL 1159 3500 \nL 1159 2956 \nQ 1341 3275 1631 3429 \nQ 1922 3584 2338 3584 \nQ 2397 3584 2469 3576 \nQ 2541 3569 2628 3553 \nL 2631 2963 \nz\n\" transform=\"scale(0.015625)\"/>\n       <path id=\"DejaVuSans-61\" d=\"M 2194 1759 \nQ 1497 1759 1228 1600 \nQ 959 1441 959 1056 \nQ 959 750 1161 570 \nQ 1363 391 1709 391 \nQ 2188 391 2477 730 \nQ 2766 1069 2766 1631 \nL 2766 1759 \nL 2194 1759 \nz\nM 3341 1997 \nL 3341 0 \nL 2766 0 \nL 2766 531 \nQ 2569 213 2275 61 \nQ 1981 -91 1556 -91 \nQ 1019 -91 701 211 \nQ 384 513 384 1019 \nQ 384 1609 779 1909 \nQ 1175 2209 1959 2209 \nL 2766 2209 \nL 2766 2266 \nQ 2766 2663 2505 2880 \nQ 2244 3097 1772 3097 \nQ 1472 3097 1187 3025 \nQ 903 2953 641 2809 \nL 641 3341 \nQ 956 3463 1253 3523 \nQ 1550 3584 1831 3584 \nQ 2591 3584 2966 3190 \nQ 3341 2797 3341 1997 \nz\n\" transform=\"scale(0.015625)\"/>\n       <path id=\"DejaVuSans-69\" d=\"M 603 3500 \nL 1178 3500 \nL 1178 0 \nL 603 0 \nL 603 3500 \nz\nM 603 4863 \nL 1178 4863 \nL 1178 4134 \nL 603 4134 \nL 603 4863 \nz\n\" transform=\"scale(0.015625)\"/>\n       <path id=\"DejaVuSans-6e\" d=\"M 3513 2113 \nL 3513 0 \nL 2938 0 \nL 2938 2094 \nQ 2938 2591 2744 2837 \nQ 2550 3084 2163 3084 \nQ 1697 3084 1428 2787 \nQ 1159 2491 1159 1978 \nL 1159 0 \nL 581 0 \nL 581 3500 \nL 1159 3500 \nL 1159 2956 \nQ 1366 3272 1645 3428 \nQ 1925 3584 2291 3584 \nQ 2894 3584 3203 3211 \nQ 3513 2838 3513 2113 \nz\n\" transform=\"scale(0.015625)\"/>\n       <path id=\"DejaVuSans-20\" transform=\"scale(0.015625)\"/>\n       <path id=\"DejaVuSans-6c\" d=\"M 603 4863 \nL 1178 4863 \nL 1178 0 \nL 603 0 \nL 603 4863 \nz\n\" transform=\"scale(0.015625)\"/>\n       <path id=\"DejaVuSans-73\" d=\"M 2834 3397 \nL 2834 2853 \nQ 2591 2978 2328 3040 \nQ 2066 3103 1784 3103 \nQ 1356 3103 1142 2972 \nQ 928 2841 928 2578 \nQ 928 2378 1081 2264 \nQ 1234 2150 1697 2047 \nL 1894 2003 \nQ 2506 1872 2764 1633 \nQ 3022 1394 3022 966 \nQ 3022 478 2636 193 \nQ 2250 -91 1575 -91 \nQ 1294 -91 989 -36 \nQ 684 19 347 128 \nL 347 722 \nQ 666 556 975 473 \nQ 1284 391 1588 391 \nQ 1994 391 2212 530 \nQ 2431 669 2431 922 \nQ 2431 1156 2273 1281 \nQ 2116 1406 1581 1522 \nL 1381 1569 \nQ 847 1681 609 1914 \nQ 372 2147 372 2553 \nQ 372 3047 722 3315 \nQ 1072 3584 1716 3584 \nQ 2034 3584 2315 3537 \nQ 2597 3491 2834 3397 \nz\n\" transform=\"scale(0.015625)\"/>\n      </defs>\n      <use xlink:href=\"#DejaVuSans-74\"/>\n      <use xlink:href=\"#DejaVuSans-72\" x=\"39.208984\"/>\n      <use xlink:href=\"#DejaVuSans-61\" x=\"80.322266\"/>\n      <use xlink:href=\"#DejaVuSans-69\" x=\"141.601562\"/>\n      <use xlink:href=\"#DejaVuSans-6e\" x=\"169.384766\"/>\n      <use xlink:href=\"#DejaVuSans-20\" x=\"232.763672\"/>\n      <use xlink:href=\"#DejaVuSans-6c\" x=\"264.550781\"/>\n      <use xlink:href=\"#DejaVuSans-6f\" x=\"292.333984\"/>\n      <use xlink:href=\"#DejaVuSans-73\" x=\"353.515625\"/>\n      <use xlink:href=\"#DejaVuSans-73\" x=\"405.615234\"/>\n     </g>\n    </g>\n    <g id=\"line2d_25\">\n     <path d=\"M 142.634375 75.759375 \nL 152.634375 75.759375 \nL 162.634375 75.759375 \n\" style=\"fill: none; stroke-dasharray: 5.55,2.4; stroke-dashoffset: 0; stroke: #bf00bf; stroke-width: 1.5\"/>\n    </g>\n    <g id=\"text_13\">\n     <!-- train acc -->\n     <g transform=\"translate(170.634375 79.259375)scale(0.1 -0.1)\">\n      <use xlink:href=\"#DejaVuSans-74\"/>\n      <use xlink:href=\"#DejaVuSans-72\" x=\"39.208984\"/>\n      <use xlink:href=\"#DejaVuSans-61\" x=\"80.322266\"/>\n      <use xlink:href=\"#DejaVuSans-69\" x=\"141.601562\"/>\n      <use xlink:href=\"#DejaVuSans-6e\" x=\"169.384766\"/>\n      <use xlink:href=\"#DejaVuSans-20\" x=\"232.763672\"/>\n      <use xlink:href=\"#DejaVuSans-61\" x=\"264.550781\"/>\n      <use xlink:href=\"#DejaVuSans-63\" x=\"325.830078\"/>\n      <use xlink:href=\"#DejaVuSans-63\" x=\"380.810547\"/>\n     </g>\n    </g>\n    <g id=\"line2d_26\">\n     <path d=\"M 142.634375 90.4375 \nL 152.634375 90.4375 \nL 162.634375 90.4375 \n\" style=\"fill: none; stroke-dasharray: 9.6,2.4,1.5,2.4; stroke-dashoffset: 0; stroke: #008000; stroke-width: 1.5\"/>\n    </g>\n    <g id=\"text_14\">\n     <!-- test acc -->\n     <g transform=\"translate(170.634375 93.9375)scale(0.1 -0.1)\">\n      <use xlink:href=\"#DejaVuSans-74\"/>\n      <use xlink:href=\"#DejaVuSans-65\" x=\"39.208984\"/>\n      <use xlink:href=\"#DejaVuSans-73\" x=\"100.732422\"/>\n      <use xlink:href=\"#DejaVuSans-74\" x=\"152.832031\"/>\n      <use xlink:href=\"#DejaVuSans-20\" x=\"192.041016\"/>\n      <use xlink:href=\"#DejaVuSans-61\" x=\"223.828125\"/>\n      <use xlink:href=\"#DejaVuSans-63\" x=\"285.107422\"/>\n      <use xlink:href=\"#DejaVuSans-63\" x=\"340.087891\"/>\n     </g>\n    </g>\n   </g>\n  </g>\n </g>\n <defs>\n  <clipPath id=\"p7259c5f536\">\n   <rect x=\"30.103125\" y=\"7.2\" width=\"195.3\" height=\"138.6\"/>\n  </clipPath>\n </defs>\n</svg>\n"
     },
     "metadata": {},
     "output_type": "display_data"
    }
   ],
   "source": [
    "lr, num_epochs = 0.9, 10\n",
    "train_ch6(lenet, train_iter, test_iter, num_epochs, lr, d2l.try_gpu())\n",
    "#train_ch6(lenet, train_iter, test_iter, num_epochs, lr, d2l.try_gpu())"
   ],
   "metadata": {
    "collapsed": false,
    "pycharm": {
     "name": "#%%\n"
    }
   }
  },
  {
   "cell_type": "code",
   "execution_count": 82,
   "outputs": [],
   "source": [
    "from torchvision.datasets import FashionMNIST\n",
    "\n",
    "\n",
    "# 处理训练集数据\n",
    "def train_data_process():\n",
    "    # 加载FashionMNIST数据集\n",
    "    train_data = FashionMNIST(root=\"data\",  # 数据路径\n",
    "                              train=True,  # 只使用训练数据集\n",
    "                              transform=transforms.Compose([transforms.ToTensor()]),\n",
    "                              # AlexNet的输入数据大小为224*224，因此这里将FashionMNIST数据集的尺寸从28扩展到224\n",
    "                              # 把PIL.Image或者numpy.array数据类型转变为torch.FloatTensor类型\n",
    "                              download=True,  # 若本身没有下载相应的数据集，则选择True\n",
    "                              )\n",
    "    train_loader = Data.DataLoader(dataset=train_data,  # 传入的数据集\n",
    "                                   batch_size=64,  # 每个Batch中含有的样本数量\n",
    "                                   shuffle=True,  # 不对数据集重新排序\n",
    "                                   num_workers=0,  # 加载数据所开启的进程数量\n",
    "                                   )\n",
    "    print(\"The number of batch in train_loader:\", len(train_loader))  # 一共有938个batch，每个batch含有64个训练样本\n",
    "\n",
    "    # 获得一个Batch的数据\n",
    "    for step, (b_x, b_y) in enumerate(train_loader):\n",
    "        if step > 0:\n",
    "            break\n",
    "    batch_x = b_x.squeeze().numpy()  # 将四维张量移除第1维，并转换成Numpy数组\n",
    "    batch_y = b_y.numpy()  # 将张量转换成Numpy数组\n",
    "    class_label = train_data.classes  # 训练集的标签\n",
    "    class_label[0] = \"T-shirt\"\n",
    "    print(\"The size of batch in train data:\", batch_x.shape)  # 每个mini-batch的维度是64*224*224\n",
    "    #初始化一个列表\n",
    "    a = []\n",
    "    # 可视化一个Batch的图像\n",
    "    plt.figure(figsize=(12, 5))\n",
    "    for ii in np.arange(2):\n",
    "        plt.subplot(1, 2, ii + 1)\n",
    "        plt.imshow(batch_x[ii, :, :], cmap=plt.cm.gray)\n",
    "        plt.title(class_label[batch_y[ii]], size=9)\n",
    "        plt.axis(\"off\")\n",
    "        plt.subplots_adjust(wspace=0.05)\n",
    "    plt.show()\n",
    "    x = batch_x[0,:,:]\n",
    "    y = batch_x[1,:,:]\n",
    "    x_label = batch_y[0]\n",
    "    y_label = batch_y[1]\n",
    "    #print(x.shape)\n",
    "\n",
    "    return x,x_label,y,y_label"
   ],
   "metadata": {
    "collapsed": false,
    "pycharm": {
     "name": "#%%\n"
    }
   }
  },
  {
   "cell_type": "code",
   "execution_count": 83,
   "outputs": [
    {
     "name": "stdout",
     "output_type": "stream",
     "text": [
      "The number of batch in train_loader: 938\n",
      "The size of batch in train data: (64, 28, 28)\n"
     ]
    },
    {
     "data": {
      "text/plain": "<Figure size 1200x500 with 2 Axes>",
      "image/svg+xml": "<?xml version=\"1.0\" encoding=\"utf-8\" standalone=\"no\"?>\n<!DOCTYPE svg PUBLIC \"-//W3C//DTD SVG 1.1//EN\"\n  \"http://www.w3.org/Graphics/SVG/1.1/DTD/svg11.dtd\">\n<svg xmlns:xlink=\"http://www.w3.org/1999/xlink\" width=\"634.565854pt\" height=\"304.438594pt\" viewBox=\"0 0 634.565854 304.438594\" xmlns=\"http://www.w3.org/2000/svg\" version=\"1.1\">\n <metadata>\n  <rdf:RDF xmlns:dc=\"http://purl.org/dc/elements/1.1/\" xmlns:cc=\"http://creativecommons.org/ns#\" xmlns:rdf=\"http://www.w3.org/1999/02/22-rdf-syntax-ns#\">\n   <cc:Work>\n    <dc:type rdf:resource=\"http://purl.org/dc/dcmitype/StillImage\"/>\n    <dc:date>2023-03-23T16:57:15.436841</dc:date>\n    <dc:format>image/svg+xml</dc:format>\n    <dc:creator>\n     <cc:Agent>\n      <dc:title>Matplotlib v3.5.1, https://matplotlib.org/</dc:title>\n     </cc:Agent>\n    </dc:creator>\n   </cc:Work>\n  </rdf:RDF>\n </metadata>\n <defs>\n  <style type=\"text/css\">*{stroke-linejoin: round; stroke-linecap: butt}</style>\n </defs>\n <g id=\"figure_1\">\n  <g id=\"patch_1\">\n   <path d=\"M -0 304.438594 \nL 634.565854 304.438594 \nL 634.565854 0 \nL -0 0 \nz\n\" style=\"fill: #ffffff\"/>\n  </g>\n  <g id=\"axes_1\">\n   <g clip-path=\"url(#p50247d1a18)\">\n    <image xlink:href=\"data:image/png;base64,\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\" id=\"imagee3bddd18f2\" transform=\"scale(1 -1)translate(0 -277.2)\" x=\"7.2\" y=\"-20.038594\" width=\"277.2\" height=\"277.2\"/>\n   </g>\n   <g id=\"text_1\">\n    <!-- Shirt -->\n    <g transform=\"translate(135.227109 14.038594)scale(0.09 -0.09)\">\n     <defs>\n      <path id=\"DejaVuSans-53\" d=\"M 3425 4513 \nL 3425 3897 \nQ 3066 4069 2747 4153 \nQ 2428 4238 2131 4238 \nQ 1616 4238 1336 4038 \nQ 1056 3838 1056 3469 \nQ 1056 3159 1242 3001 \nQ 1428 2844 1947 2747 \nL 2328 2669 \nQ 3034 2534 3370 2195 \nQ 3706 1856 3706 1288 \nQ 3706 609 3251 259 \nQ 2797 -91 1919 -91 \nQ 1588 -91 1214 -16 \nQ 841 59 441 206 \nL 441 856 \nQ 825 641 1194 531 \nQ 1563 422 1919 422 \nQ 2459 422 2753 634 \nQ 3047 847 3047 1241 \nQ 3047 1584 2836 1778 \nQ 2625 1972 2144 2069 \nL 1759 2144 \nQ 1053 2284 737 2584 \nQ 422 2884 422 3419 \nQ 422 4038 858 4394 \nQ 1294 4750 2059 4750 \nQ 2388 4750 2728 4690 \nQ 3069 4631 3425 4513 \nz\n\" transform=\"scale(0.015625)\"/>\n      <path id=\"DejaVuSans-68\" d=\"M 3513 2113 \nL 3513 0 \nL 2938 0 \nL 2938 2094 \nQ 2938 2591 2744 2837 \nQ 2550 3084 2163 3084 \nQ 1697 3084 1428 2787 \nQ 1159 2491 1159 1978 \nL 1159 0 \nL 581 0 \nL 581 4863 \nL 1159 4863 \nL 1159 2956 \nQ 1366 3272 1645 3428 \nQ 1925 3584 2291 3584 \nQ 2894 3584 3203 3211 \nQ 3513 2838 3513 2113 \nz\n\" transform=\"scale(0.015625)\"/>\n      <path id=\"DejaVuSans-69\" d=\"M 603 3500 \nL 1178 3500 \nL 1178 0 \nL 603 0 \nL 603 3500 \nz\nM 603 4863 \nL 1178 4863 \nL 1178 4134 \nL 603 4134 \nL 603 4863 \nz\n\" transform=\"scale(0.015625)\"/>\n      <path id=\"DejaVuSans-72\" d=\"M 2631 2963 \nQ 2534 3019 2420 3045 \nQ 2306 3072 2169 3072 \nQ 1681 3072 1420 2755 \nQ 1159 2438 1159 1844 \nL 1159 0 \nL 581 0 \nL 581 3500 \nL 1159 3500 \nL 1159 2956 \nQ 1341 3275 1631 3429 \nQ 1922 3584 2338 3584 \nQ 2397 3584 2469 3576 \nQ 2541 3569 2628 3553 \nL 2631 2963 \nz\n\" transform=\"scale(0.015625)\"/>\n      <path id=\"DejaVuSans-74\" d=\"M 1172 4494 \nL 1172 3500 \nL 2356 3500 \nL 2356 3053 \nL 1172 3053 \nL 1172 1153 \nQ 1172 725 1289 603 \nQ 1406 481 1766 481 \nL 2356 481 \nL 2356 0 \nL 1766 0 \nQ 1100 0 847 248 \nQ 594 497 594 1153 \nL 594 3053 \nL 172 3053 \nL 172 3500 \nL 594 3500 \nL 594 4494 \nL 1172 4494 \nz\n\" transform=\"scale(0.015625)\"/>\n     </defs>\n     <use xlink:href=\"#DejaVuSans-53\"/>\n     <use xlink:href=\"#DejaVuSans-68\" x=\"63.476562\"/>\n     <use xlink:href=\"#DejaVuSans-69\" x=\"126.855469\"/>\n     <use xlink:href=\"#DejaVuSans-72\" x=\"154.638672\"/>\n     <use xlink:href=\"#DejaVuSans-74\" x=\"195.751953\"/>\n    </g>\n   </g>\n  </g>\n  <g id=\"axes_2\">\n   <g clip-path=\"url(#pb8b5e468d2)\">\n    <image xlink:href=\"data:image/png;base64,\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\" id=\"image5450b72af6\" transform=\"scale(1 -1)translate(0 -277.2)\" x=\"350.165854\" y=\"-20.038594\" width=\"277.92\" height=\"277.2\"/>\n   </g>\n   <g id=\"text_2\">\n    <!-- Dress -->\n    <g transform=\"translate(476.094838 14.038594)scale(0.09 -0.09)\">\n     <defs>\n      <path id=\"DejaVuSans-44\" d=\"M 1259 4147 \nL 1259 519 \nL 2022 519 \nQ 2988 519 3436 956 \nQ 3884 1394 3884 2338 \nQ 3884 3275 3436 3711 \nQ 2988 4147 2022 4147 \nL 1259 4147 \nz\nM 628 4666 \nL 1925 4666 \nQ 3281 4666 3915 4102 \nQ 4550 3538 4550 2338 \nQ 4550 1131 3912 565 \nQ 3275 0 1925 0 \nL 628 0 \nL 628 4666 \nz\n\" transform=\"scale(0.015625)\"/>\n      <path id=\"DejaVuSans-65\" d=\"M 3597 1894 \nL 3597 1613 \nL 953 1613 \nQ 991 1019 1311 708 \nQ 1631 397 2203 397 \nQ 2534 397 2845 478 \nQ 3156 559 3463 722 \nL 3463 178 \nQ 3153 47 2828 -22 \nQ 2503 -91 2169 -91 \nQ 1331 -91 842 396 \nQ 353 884 353 1716 \nQ 353 2575 817 3079 \nQ 1281 3584 2069 3584 \nQ 2775 3584 3186 3129 \nQ 3597 2675 3597 1894 \nz\nM 3022 2063 \nQ 3016 2534 2758 2815 \nQ 2500 3097 2075 3097 \nQ 1594 3097 1305 2825 \nQ 1016 2553 972 2059 \nL 3022 2063 \nz\n\" transform=\"scale(0.015625)\"/>\n      <path id=\"DejaVuSans-73\" d=\"M 2834 3397 \nL 2834 2853 \nQ 2591 2978 2328 3040 \nQ 2066 3103 1784 3103 \nQ 1356 3103 1142 2972 \nQ 928 2841 928 2578 \nQ 928 2378 1081 2264 \nQ 1234 2150 1697 2047 \nL 1894 2003 \nQ 2506 1872 2764 1633 \nQ 3022 1394 3022 966 \nQ 3022 478 2636 193 \nQ 2250 -91 1575 -91 \nQ 1294 -91 989 -36 \nQ 684 19 347 128 \nL 347 722 \nQ 666 556 975 473 \nQ 1284 391 1588 391 \nQ 1994 391 2212 530 \nQ 2431 669 2431 922 \nQ 2431 1156 2273 1281 \nQ 2116 1406 1581 1522 \nL 1381 1569 \nQ 847 1681 609 1914 \nQ 372 2147 372 2553 \nQ 372 3047 722 3315 \nQ 1072 3584 1716 3584 \nQ 2034 3584 2315 3537 \nQ 2597 3491 2834 3397 \nz\n\" transform=\"scale(0.015625)\"/>\n     </defs>\n     <use xlink:href=\"#DejaVuSans-44\"/>\n     <use xlink:href=\"#DejaVuSans-72\" x=\"77.001953\"/>\n     <use xlink:href=\"#DejaVuSans-65\" x=\"115.865234\"/>\n     <use xlink:href=\"#DejaVuSans-73\" x=\"177.388672\"/>\n     <use xlink:href=\"#DejaVuSans-73\" x=\"229.488281\"/>\n    </g>\n   </g>\n  </g>\n </g>\n <defs>\n  <clipPath id=\"p50247d1a18\">\n   <rect x=\"7.2\" y=\"20.038594\" width=\"277.2\" height=\"277.2\"/>\n  </clipPath>\n  <clipPath id=\"pb8b5e468d2\">\n   <rect x=\"350.165854\" y=\"20.038594\" width=\"277.2\" height=\"277.2\"/>\n  </clipPath>\n </defs>\n</svg>\n"
     },
     "metadata": {},
     "output_type": "display_data"
    },
    {
     "name": "stdout",
     "output_type": "stream",
     "text": [
      "OrderedDict([('weight', tensor([[[[-0.0079,  0.0310, -0.1031,  0.1963, -0.0851],\n",
      "          [-0.1136, -0.1099,  0.0211, -0.1017, -0.1233],\n",
      "          [-0.1676,  0.1264, -0.1027, -0.1043, -0.0887],\n",
      "          [ 0.0260, -0.0287, -0.1068,  0.0657,  0.1454],\n",
      "          [-0.1494, -0.0374, -0.0057,  0.1886,  0.0477]]],\n",
      "\n",
      "\n",
      "        [[[-0.1573, -0.0012, -0.1771, -0.0723, -0.1769],\n",
      "          [ 0.1680, -0.0793, -0.1752,  0.1373, -0.1412],\n",
      "          [-0.1022,  0.0767,  0.1492, -0.0595, -0.1256],\n",
      "          [-0.0485,  0.0516,  0.1156, -0.0536, -0.1977],\n",
      "          [ 0.0535,  0.1767,  0.0068,  0.0547, -0.0160]]],\n",
      "\n",
      "\n",
      "        [[[ 0.0927,  0.0235,  0.0615,  0.0742, -0.0961],\n",
      "          [-0.0987,  0.0897, -0.0607, -0.0983,  0.1975],\n",
      "          [ 0.1070,  0.0524, -0.1498, -0.1679, -0.0073],\n",
      "          [-0.1224, -0.0006,  0.1094, -0.0675, -0.1637],\n",
      "          [-0.0614, -0.0258, -0.0898, -0.1985,  0.0156]]],\n",
      "\n",
      "\n",
      "        [[[-0.1875, -0.1196,  0.0724,  0.1827,  0.1473],\n",
      "          [ 0.1413,  0.0492,  0.0764, -0.0057, -0.1288],\n",
      "          [ 0.1548, -0.1850, -0.1308, -0.1818, -0.0495],\n",
      "          [ 0.1287, -0.1135,  0.0925,  0.1639,  0.1069],\n",
      "          [-0.1091,  0.0624,  0.1011, -0.0819, -0.0856]]],\n",
      "\n",
      "\n",
      "        [[[-0.0239, -0.0119, -0.0285,  0.0337,  0.1334],\n",
      "          [ 0.1767, -0.1498,  0.0494, -0.0458, -0.1088],\n",
      "          [-0.1579,  0.1951, -0.1920,  0.0107, -0.1351],\n",
      "          [ 0.0184,  0.1106,  0.0321,  0.1812,  0.0237],\n",
      "          [-0.0048,  0.0360,  0.0362, -0.0438, -0.1576]]],\n",
      "\n",
      "\n",
      "        [[[ 0.1134,  0.1065, -0.1792,  0.1463, -0.0596],\n",
      "          [-0.0216,  0.1835, -0.0324, -0.1714,  0.0646],\n",
      "          [-0.0759, -0.0712,  0.0939,  0.0098,  0.0793],\n",
      "          [-0.1929, -0.0462,  0.0163,  0.0876, -0.1405],\n",
      "          [-0.0746, -0.1964,  0.0824, -0.0605, -0.1947]]]])), ('bias', tensor([-0.1007,  0.0036, -0.0268,  0.1577, -0.0390, -0.1943]))]) \n",
      "\n",
      "tensor([[-0.4912, -0.3493, -0.1003, -0.1234, -0.2382,  0.2254,  0.1925, -0.0277,\n",
      "          0.0525,  0.3364]], grad_fn=<AddmmBackward0>) \n",
      "\n",
      "6 \n",
      "\n",
      "OrderedDict() \n",
      "\n",
      "tensor([[-0.4912, -0.3492, -0.1002, -0.1233, -0.2382,  0.2253,  0.1925, -0.0276,\n",
      "          0.0525,  0.3363]], grad_fn=<AddmmBackward0>) \n",
      "\n",
      "3\n"
     ]
    }
   ],
   "source": [
    "p1,p1_label,p2,p2_label = train_data_process()\n",
    "p1 = torch.tensor(p1).unsqueeze(0).unsqueeze(0)\n",
    "p2 = torch.tensor(p2).unsqueeze(0).unsqueeze(0)\n",
    "# for i, (X, y) in enumerate(train_iter):\n",
    "#     y=i+1\n",
    "c = net(p1)\n",
    "print(net[0].state_dict(),'\\n')\n",
    "print(c,'\\n')\n",
    "print(p1_label,'\\n')\n",
    "c2 = net(p2)\n",
    "print(net[1].state_dict(),\"\\n\")\n",
    "print(c2,'\\n')\n",
    "print(p2_label)\n"
   ],
   "metadata": {
    "collapsed": false,
    "pycharm": {
     "name": "#%%\n"
    }
   }
  },
  {
   "cell_type": "code",
   "execution_count": 84,
   "outputs": [
    {
     "name": "stdout",
     "output_type": "stream",
     "text": [
      "torch.Size([96, 1, 28, 28])\n"
     ]
    }
   ],
   "source": [
    "for i, (X, y) in enumerate(train_iter):\n",
    "    y=i+1\n",
    "print(X.shape)"
   ],
   "metadata": {
    "collapsed": false,
    "pycharm": {
     "name": "#%%\n"
    }
   }
  },
  {
   "cell_type": "code",
   "execution_count": 84,
   "outputs": [],
   "source": [],
   "metadata": {
    "collapsed": false,
    "pycharm": {
     "name": "#%%\n"
    }
   }
  }
 ],
 "metadata": {
  "kernelspec": {
   "name": "pytorch1",
   "language": "python",
   "display_name": "Python (pytorch1)"
  },
  "language_info": {
   "codemirror_mode": {
    "name": "ipython",
    "version": 2
   },
   "file_extension": ".py",
   "mimetype": "text/x-python",
   "name": "python",
   "nbconvert_exporter": "python",
   "pygments_lexer": "ipython2",
   "version": "2.7.6"
  }
 },
 "nbformat": 4,
 "nbformat_minor": 0
}