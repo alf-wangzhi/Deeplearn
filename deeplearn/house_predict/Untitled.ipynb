{
 "cells": [
  {
   "cell_type": "code",
   "execution_count": 60,
   "id": "a1ffd50e",
   "metadata": {},
   "outputs": [],
   "source": [
    "# 导入所需库\n",
    "import hashlib\n",
    "import os\n",
    "import tarfile\n",
    "import zipfile\n",
    "import matplotlib.pyplot as plt\n",
    "import numpy as np\n",
    "import requests\n",
    "import pandas as pd\n",
    "import torch\n",
    "from torch import nn\n",
    "from d2l import torch as d2l\n",
    "\n",
    "import datetime"
   ]
  },
  {
   "cell_type": "markdown",
   "id": "cda8489a",
   "metadata": {},
   "source": []
  },
  {
   "cell_type": "markdown",
   "id": "226e6b84",
   "metadata": {},
   "source": [
    "# 下载数据"
   ]
  },
  {
   "cell_type": "code",
   "execution_count": 61,
   "id": "199c7943",
   "metadata": {},
   "outputs": [],
   "source": [
    "# 设置下载路径\n",
    "DATA_HUB = dict()\n",
    "DATA_URL = 'http://d2l-data.s3-accelerate.amazonaws.com/'\n",
    "# 下载函数\n",
    "def download(name, cache_dir=os.path.join('data')):  \n",
    "    \"\"\"下载一个DATA_HUB中的文件，返回本地文件名\"\"\"\n",
    "    assert name in DATA_HUB, f\"{name} 不存在于 {DATA_HUB}\"\n",
    "    url, sha1_hash = DATA_HUB[name]\n",
    "    os.makedirs(cache_dir, exist_ok=True)\n",
    "    fname = os.path.join(cache_dir, url.split('/')[-1])\n",
    "    if os.path.exists(fname):\n",
    "        sha1 = hashlib.sha1()\n",
    "        with open(fname, 'rb') as f:\n",
    "            while True:\n",
    "                data = f.read(1048576)\n",
    "                if not data:\n",
    "                    break\n",
    "                sha1.update(data)\n",
    "        if sha1.hexdigest() == sha1_hash:\n",
    "            return fname  # 命中缓存\n",
    "    print(f'正在从{url}下载{fname}...')\n",
    "    r = requests.get(url, stream=True, verify=True)\n",
    "    with open(fname, 'wb') as f:\n",
    "        f.write(r.content)\n",
    "    return fname\n",
    "# 解压函数\n",
    "def download_extract(name, folder=None):  \n",
    "    \"\"\"下载并解压zip/tar文件\"\"\"\n",
    "    fname = download(name)\n",
    "    base_dir = os.path.dirname(fname)\n",
    "    data_dir, ext = os.path.splitext(fname)\n",
    "    if ext == '.zip':\n",
    "        fp = zipfile.ZipFile(fname, 'r')\n",
    "    elif ext in ('.tar', '.gz'):\n",
    "        fp = tarfile.open(fname, 'r')\n",
    "    else:\n",
    "        assert False, '只有zip/tar文件可以被解压缩'\n",
    "    fp.extractall(base_dir)\n",
    "    return os.path.join(base_dir, folder) if folder else data_dir\n",
    "\n",
    "def download_all():  \n",
    "    \"\"\"下载DATA_HUB中的所有文件\"\"\"\n",
    "    for name in DATA_HUB:\n",
    "        download(name)"
   ]
  },
  {
   "cell_type": "code",
   "execution_count": 62,
   "id": "f42fedb2",
   "metadata": {},
   "outputs": [],
   "source": [
    "DATA_HUB['kaggle_house_train'] = (  \n",
    "        DATA_URL + 'kaggle_house_pred_train.csv',\n",
    "        '585e9cc93e70b39160e7921475f9bcd7d31219ce')\n",
    "\n",
    "DATA_HUB['kaggle_house_test'] = (  \n",
    "    DATA_URL + 'kaggle_house_pred_test.csv',\n",
    "    'fa19780a7b011d9b009e8bff8e99922a8ee2eb90')\n",
    "# 分别下载测试集和训练集\n",
    "train_data = pd.read_csv(download('kaggle_house_train'))\n",
    "test_data = pd.read_csv(download('kaggle_house_test'))\n",
    "test = test_data"
   ]
  },
  {
   "cell_type": "code",
   "execution_count": 63,
   "id": "056de8b1",
   "metadata": {},
   "outputs": [
    {
     "data": {
      "text/plain": "   Id  MSSubClass MSZoning  LotFrontage SaleType SaleCondition  SalePrice\n0   1          60       RL         65.0       WD        Normal     208500\n1   2          20       RL         80.0       WD        Normal     181500\n2   3          60       RL         68.0       WD        Normal     223500\n3   4          70       RL         60.0       WD       Abnorml     140000",
      "text/html": "<div>\n<style scoped>\n    .dataframe tbody tr th:only-of-type {\n        vertical-align: middle;\n    }\n\n    .dataframe tbody tr th {\n        vertical-align: top;\n    }\n\n    .dataframe thead th {\n        text-align: right;\n    }\n</style>\n<table border=\"1\" class=\"dataframe\">\n  <thead>\n    <tr style=\"text-align: right;\">\n      <th></th>\n      <th>Id</th>\n      <th>MSSubClass</th>\n      <th>MSZoning</th>\n      <th>LotFrontage</th>\n      <th>SaleType</th>\n      <th>SaleCondition</th>\n      <th>SalePrice</th>\n    </tr>\n  </thead>\n  <tbody>\n    <tr>\n      <th>0</th>\n      <td>1</td>\n      <td>60</td>\n      <td>RL</td>\n      <td>65.0</td>\n      <td>WD</td>\n      <td>Normal</td>\n      <td>208500</td>\n    </tr>\n    <tr>\n      <th>1</th>\n      <td>2</td>\n      <td>20</td>\n      <td>RL</td>\n      <td>80.0</td>\n      <td>WD</td>\n      <td>Normal</td>\n      <td>181500</td>\n    </tr>\n    <tr>\n      <th>2</th>\n      <td>3</td>\n      <td>60</td>\n      <td>RL</td>\n      <td>68.0</td>\n      <td>WD</td>\n      <td>Normal</td>\n      <td>223500</td>\n    </tr>\n    <tr>\n      <th>3</th>\n      <td>4</td>\n      <td>70</td>\n      <td>RL</td>\n      <td>60.0</td>\n      <td>WD</td>\n      <td>Abnorml</td>\n      <td>140000</td>\n    </tr>\n  </tbody>\n</table>\n</div>"
     },
     "execution_count": 63,
     "metadata": {},
     "output_type": "execute_result"
    }
   ],
   "source": [
    "train_data.iloc[0:4,[0,1,2,3,-3,-2,-1]]"
   ]
  },
  {
   "cell_type": "code",
   "execution_count": 64,
   "id": "8a39e298",
   "metadata": {},
   "outputs": [
    {
     "data": {
      "text/plain": "(1460, 81)"
     },
     "execution_count": 64,
     "metadata": {},
     "output_type": "execute_result"
    }
   ],
   "source": [
    "train_data.shape"
   ]
  },
  {
   "cell_type": "code",
   "execution_count": 65,
   "id": "a70f2431",
   "metadata": {},
   "outputs": [
    {
     "data": {
      "text/plain": "(1459, 80)"
     },
     "execution_count": 65,
     "metadata": {},
     "output_type": "execute_result"
    }
   ],
   "source": [
    "test_data.shape"
   ]
  },
  {
   "cell_type": "code",
   "execution_count": 66,
   "id": "dce232ab",
   "metadata": {},
   "outputs": [
    {
     "data": {
      "text/plain": "      MSSubClass MSZoning  LotFrontage  LotArea Street Alley LotShape  \\\n0             60       RL         65.0     8450   Pave   NaN      Reg   \n1             20       RL         80.0     9600   Pave   NaN      Reg   \n2             60       RL         68.0    11250   Pave   NaN      IR1   \n3             70       RL         60.0     9550   Pave   NaN      IR1   \n4             60       RL         84.0    14260   Pave   NaN      IR1   \n...          ...      ...          ...      ...    ...   ...      ...   \n1454         160       RM         21.0     1936   Pave   NaN      Reg   \n1455         160       RM         21.0     1894   Pave   NaN      Reg   \n1456          20       RL        160.0    20000   Pave   NaN      Reg   \n1457          85       RL         62.0    10441   Pave   NaN      Reg   \n1458          60       RL         74.0     9627   Pave   NaN      Reg   \n\n     LandContour Utilities LotConfig  ... ScreenPorch PoolArea PoolQC  Fence  \\\n0            Lvl    AllPub    Inside  ...           0        0    NaN    NaN   \n1            Lvl    AllPub       FR2  ...           0        0    NaN    NaN   \n2            Lvl    AllPub    Inside  ...           0        0    NaN    NaN   \n3            Lvl    AllPub    Corner  ...           0        0    NaN    NaN   \n4            Lvl    AllPub       FR2  ...           0        0    NaN    NaN   \n...          ...       ...       ...  ...         ...      ...    ...    ...   \n1454         Lvl    AllPub    Inside  ...           0        0    NaN    NaN   \n1455         Lvl    AllPub    Inside  ...           0        0    NaN    NaN   \n1456         Lvl    AllPub    Inside  ...           0        0    NaN    NaN   \n1457         Lvl    AllPub    Inside  ...           0        0    NaN  MnPrv   \n1458         Lvl    AllPub    Inside  ...           0        0    NaN    NaN   \n\n     MiscFeature MiscVal  MoSold  YrSold  SaleType  SaleCondition  \n0            NaN       0       2    2008        WD         Normal  \n1            NaN       0       5    2007        WD         Normal  \n2            NaN       0       9    2008        WD         Normal  \n3            NaN       0       2    2006        WD        Abnorml  \n4            NaN       0      12    2008        WD         Normal  \n...          ...     ...     ...     ...       ...            ...  \n1454         NaN       0       6    2006        WD         Normal  \n1455         NaN       0       4    2006        WD        Abnorml  \n1456         NaN       0       9    2006        WD        Abnorml  \n1457        Shed     700       7    2006        WD         Normal  \n1458         NaN       0      11    2006        WD         Normal  \n\n[2919 rows x 79 columns]",
      "text/html": "<div>\n<style scoped>\n    .dataframe tbody tr th:only-of-type {\n        vertical-align: middle;\n    }\n\n    .dataframe tbody tr th {\n        vertical-align: top;\n    }\n\n    .dataframe thead th {\n        text-align: right;\n    }\n</style>\n<table border=\"1\" class=\"dataframe\">\n  <thead>\n    <tr style=\"text-align: right;\">\n      <th></th>\n      <th>MSSubClass</th>\n      <th>MSZoning</th>\n      <th>LotFrontage</th>\n      <th>LotArea</th>\n      <th>Street</th>\n      <th>Alley</th>\n      <th>LotShape</th>\n      <th>LandContour</th>\n      <th>Utilities</th>\n      <th>LotConfig</th>\n      <th>...</th>\n      <th>ScreenPorch</th>\n      <th>PoolArea</th>\n      <th>PoolQC</th>\n      <th>Fence</th>\n      <th>MiscFeature</th>\n      <th>MiscVal</th>\n      <th>MoSold</th>\n      <th>YrSold</th>\n      <th>SaleType</th>\n      <th>SaleCondition</th>\n    </tr>\n  </thead>\n  <tbody>\n    <tr>\n      <th>0</th>\n      <td>60</td>\n      <td>RL</td>\n      <td>65.0</td>\n      <td>8450</td>\n      <td>Pave</td>\n      <td>NaN</td>\n      <td>Reg</td>\n      <td>Lvl</td>\n      <td>AllPub</td>\n      <td>Inside</td>\n      <td>...</td>\n      <td>0</td>\n      <td>0</td>\n      <td>NaN</td>\n      <td>NaN</td>\n      <td>NaN</td>\n      <td>0</td>\n      <td>2</td>\n      <td>2008</td>\n      <td>WD</td>\n      <td>Normal</td>\n    </tr>\n    <tr>\n      <th>1</th>\n      <td>20</td>\n      <td>RL</td>\n      <td>80.0</td>\n      <td>9600</td>\n      <td>Pave</td>\n      <td>NaN</td>\n      <td>Reg</td>\n      <td>Lvl</td>\n      <td>AllPub</td>\n      <td>FR2</td>\n      <td>...</td>\n      <td>0</td>\n      <td>0</td>\n      <td>NaN</td>\n      <td>NaN</td>\n      <td>NaN</td>\n      <td>0</td>\n      <td>5</td>\n      <td>2007</td>\n      <td>WD</td>\n      <td>Normal</td>\n    </tr>\n    <tr>\n      <th>2</th>\n      <td>60</td>\n      <td>RL</td>\n      <td>68.0</td>\n      <td>11250</td>\n      <td>Pave</td>\n      <td>NaN</td>\n      <td>IR1</td>\n      <td>Lvl</td>\n      <td>AllPub</td>\n      <td>Inside</td>\n      <td>...</td>\n      <td>0</td>\n      <td>0</td>\n      <td>NaN</td>\n      <td>NaN</td>\n      <td>NaN</td>\n      <td>0</td>\n      <td>9</td>\n      <td>2008</td>\n      <td>WD</td>\n      <td>Normal</td>\n    </tr>\n    <tr>\n      <th>3</th>\n      <td>70</td>\n      <td>RL</td>\n      <td>60.0</td>\n      <td>9550</td>\n      <td>Pave</td>\n      <td>NaN</td>\n      <td>IR1</td>\n      <td>Lvl</td>\n      <td>AllPub</td>\n      <td>Corner</td>\n      <td>...</td>\n      <td>0</td>\n      <td>0</td>\n      <td>NaN</td>\n      <td>NaN</td>\n      <td>NaN</td>\n      <td>0</td>\n      <td>2</td>\n      <td>2006</td>\n      <td>WD</td>\n      <td>Abnorml</td>\n    </tr>\n    <tr>\n      <th>4</th>\n      <td>60</td>\n      <td>RL</td>\n      <td>84.0</td>\n      <td>14260</td>\n      <td>Pave</td>\n      <td>NaN</td>\n      <td>IR1</td>\n      <td>Lvl</td>\n      <td>AllPub</td>\n      <td>FR2</td>\n      <td>...</td>\n      <td>0</td>\n      <td>0</td>\n      <td>NaN</td>\n      <td>NaN</td>\n      <td>NaN</td>\n      <td>0</td>\n      <td>12</td>\n      <td>2008</td>\n      <td>WD</td>\n      <td>Normal</td>\n    </tr>\n    <tr>\n      <th>...</th>\n      <td>...</td>\n      <td>...</td>\n      <td>...</td>\n      <td>...</td>\n      <td>...</td>\n      <td>...</td>\n      <td>...</td>\n      <td>...</td>\n      <td>...</td>\n      <td>...</td>\n      <td>...</td>\n      <td>...</td>\n      <td>...</td>\n      <td>...</td>\n      <td>...</td>\n      <td>...</td>\n      <td>...</td>\n      <td>...</td>\n      <td>...</td>\n      <td>...</td>\n      <td>...</td>\n    </tr>\n    <tr>\n      <th>1454</th>\n      <td>160</td>\n      <td>RM</td>\n      <td>21.0</td>\n      <td>1936</td>\n      <td>Pave</td>\n      <td>NaN</td>\n      <td>Reg</td>\n      <td>Lvl</td>\n      <td>AllPub</td>\n      <td>Inside</td>\n      <td>...</td>\n      <td>0</td>\n      <td>0</td>\n      <td>NaN</td>\n      <td>NaN</td>\n      <td>NaN</td>\n      <td>0</td>\n      <td>6</td>\n      <td>2006</td>\n      <td>WD</td>\n      <td>Normal</td>\n    </tr>\n    <tr>\n      <th>1455</th>\n      <td>160</td>\n      <td>RM</td>\n      <td>21.0</td>\n      <td>1894</td>\n      <td>Pave</td>\n      <td>NaN</td>\n      <td>Reg</td>\n      <td>Lvl</td>\n      <td>AllPub</td>\n      <td>Inside</td>\n      <td>...</td>\n      <td>0</td>\n      <td>0</td>\n      <td>NaN</td>\n      <td>NaN</td>\n      <td>NaN</td>\n      <td>0</td>\n      <td>4</td>\n      <td>2006</td>\n      <td>WD</td>\n      <td>Abnorml</td>\n    </tr>\n    <tr>\n      <th>1456</th>\n      <td>20</td>\n      <td>RL</td>\n      <td>160.0</td>\n      <td>20000</td>\n      <td>Pave</td>\n      <td>NaN</td>\n      <td>Reg</td>\n      <td>Lvl</td>\n      <td>AllPub</td>\n      <td>Inside</td>\n      <td>...</td>\n      <td>0</td>\n      <td>0</td>\n      <td>NaN</td>\n      <td>NaN</td>\n      <td>NaN</td>\n      <td>0</td>\n      <td>9</td>\n      <td>2006</td>\n      <td>WD</td>\n      <td>Abnorml</td>\n    </tr>\n    <tr>\n      <th>1457</th>\n      <td>85</td>\n      <td>RL</td>\n      <td>62.0</td>\n      <td>10441</td>\n      <td>Pave</td>\n      <td>NaN</td>\n      <td>Reg</td>\n      <td>Lvl</td>\n      <td>AllPub</td>\n      <td>Inside</td>\n      <td>...</td>\n      <td>0</td>\n      <td>0</td>\n      <td>NaN</td>\n      <td>MnPrv</td>\n      <td>Shed</td>\n      <td>700</td>\n      <td>7</td>\n      <td>2006</td>\n      <td>WD</td>\n      <td>Normal</td>\n    </tr>\n    <tr>\n      <th>1458</th>\n      <td>60</td>\n      <td>RL</td>\n      <td>74.0</td>\n      <td>9627</td>\n      <td>Pave</td>\n      <td>NaN</td>\n      <td>Reg</td>\n      <td>Lvl</td>\n      <td>AllPub</td>\n      <td>Inside</td>\n      <td>...</td>\n      <td>0</td>\n      <td>0</td>\n      <td>NaN</td>\n      <td>NaN</td>\n      <td>NaN</td>\n      <td>0</td>\n      <td>11</td>\n      <td>2006</td>\n      <td>WD</td>\n      <td>Normal</td>\n    </tr>\n  </tbody>\n</table>\n<p>2919 rows × 79 columns</p>\n</div>"
     },
     "execution_count": 66,
     "metadata": {},
     "output_type": "execute_result"
    }
   ],
   "source": [
    "all_features = pd.concat((train_data.iloc[:, 1:-1], test_data.iloc[:, 1:]))\n",
    "all_features"
   ]
  },
  {
   "cell_type": "markdown",
   "id": "4586ef74",
   "metadata": {},
   "source": [
    "# 数据预处理"
   ]
  },
  {
   "cell_type": "markdown",
   "id": "bb786d79",
   "metadata": {},
   "source": []
  },
  {
   "cell_type": "code",
   "execution_count": 67,
   "id": "1a282abd",
   "metadata": {},
   "outputs": [],
   "source": [
    "#将列表中数值型的数据索引出来\n",
    "numeric_features=all_features.dtypes[all_features.dtypes!='object'].index\n",
    "#对数据进行标准化\n",
    "all_features[numeric_features]=all_features[numeric_features].apply(\n",
    "        lambda x:(x-x.mean())/(x.std()))\n",
    "#标准化后，每个数值特征的均值变为0，可以直接用0来替换缺失值\n",
    "all_features[numeric_features]=all_features[numeric_features].fillna(0)\n",
    "#离散数值转成指示特征\n",
    "all_features=pd.get_dummies(all_features,dummy_na=True)#通过转换将特征数从79增加到了330"
   ]
  },
  {
   "cell_type": "code",
   "execution_count": 68,
   "id": "5766396e",
   "metadata": {},
   "outputs": [
    {
     "data": {
      "text/plain": "      MSSubClass  LotFrontage   LotArea  OverallQual  OverallCond  YearBuilt  \\\n0       0.067320    -0.184443 -0.217841     0.646073    -0.507197   1.046078   \n1      -0.873466     0.458096 -0.072032    -0.063174     2.187904   0.154737   \n2       0.067320    -0.055935  0.137173     0.646073    -0.507197   0.980053   \n3       0.302516    -0.398622 -0.078371     0.646073    -0.507197  -1.859033   \n4       0.067320     0.629439  0.518814     1.355319    -0.507197   0.947040   \n...          ...          ...       ...          ...          ...        ...   \n1454    2.419286    -2.069222 -1.043758    -1.481667     1.289537  -0.043338   \n1455    2.419286    -2.069222 -1.049083    -1.481667    -0.507197  -0.043338   \n1456   -0.873466     3.884968  1.246594    -0.772420     1.289537  -0.373465   \n1457    0.655311    -0.312950  0.034599    -0.772420    -0.507197   0.682939   \n1458    0.067320     0.201080 -0.068608     0.646073    -0.507197   0.715952   \n\n      YearRemodAdd  MasVnrArea  BsmtFinSF1  BsmtFinSF2  ...  SaleType_Oth  \\\n0         0.896679    0.523038    0.580708    -0.29303  ...             0   \n1        -0.395536   -0.569893    1.177709    -0.29303  ...             0   \n2         0.848819    0.333448    0.097840    -0.29303  ...             0   \n3        -0.682695   -0.569893   -0.494771    -0.29303  ...             0   \n4         0.753100    1.381770    0.468770    -0.29303  ...             0   \n...            ...         ...         ...         ...  ...           ...   \n1454     -0.682695   -0.569893   -0.968860    -0.29303  ...             0   \n1455     -0.682695   -0.569893   -0.415757    -0.29303  ...             0   \n1456      0.561660   -0.569893    1.717643    -0.29303  ...             0   \n1457      0.370221   -0.569893   -0.229194    -0.29303  ...             0   \n1458      0.465941   -0.045732    0.694840    -0.29303  ...             0   \n\n      SaleType_WD  SaleType_nan  SaleCondition_Abnorml  SaleCondition_AdjLand  \\\n0               1             0                      0                      0   \n1               1             0                      0                      0   \n2               1             0                      0                      0   \n3               1             0                      1                      0   \n4               1             0                      0                      0   \n...           ...           ...                    ...                    ...   \n1454            1             0                      0                      0   \n1455            1             0                      1                      0   \n1456            1             0                      1                      0   \n1457            1             0                      0                      0   \n1458            1             0                      0                      0   \n\n      SaleCondition_Alloca  SaleCondition_Family  SaleCondition_Normal  \\\n0                        0                     0                     1   \n1                        0                     0                     1   \n2                        0                     0                     1   \n3                        0                     0                     0   \n4                        0                     0                     1   \n...                    ...                   ...                   ...   \n1454                     0                     0                     1   \n1455                     0                     0                     0   \n1456                     0                     0                     0   \n1457                     0                     0                     1   \n1458                     0                     0                     1   \n\n      SaleCondition_Partial  SaleCondition_nan  \n0                         0                  0  \n1                         0                  0  \n2                         0                  0  \n3                         0                  0  \n4                         0                  0  \n...                     ...                ...  \n1454                      0                  0  \n1455                      0                  0  \n1456                      0                  0  \n1457                      0                  0  \n1458                      0                  0  \n\n[2919 rows x 331 columns]",
      "text/html": "<div>\n<style scoped>\n    .dataframe tbody tr th:only-of-type {\n        vertical-align: middle;\n    }\n\n    .dataframe tbody tr th {\n        vertical-align: top;\n    }\n\n    .dataframe thead th {\n        text-align: right;\n    }\n</style>\n<table border=\"1\" class=\"dataframe\">\n  <thead>\n    <tr style=\"text-align: right;\">\n      <th></th>\n      <th>MSSubClass</th>\n      <th>LotFrontage</th>\n      <th>LotArea</th>\n      <th>OverallQual</th>\n      <th>OverallCond</th>\n      <th>YearBuilt</th>\n      <th>YearRemodAdd</th>\n      <th>MasVnrArea</th>\n      <th>BsmtFinSF1</th>\n      <th>BsmtFinSF2</th>\n      <th>...</th>\n      <th>SaleType_Oth</th>\n      <th>SaleType_WD</th>\n      <th>SaleType_nan</th>\n      <th>SaleCondition_Abnorml</th>\n      <th>SaleCondition_AdjLand</th>\n      <th>SaleCondition_Alloca</th>\n      <th>SaleCondition_Family</th>\n      <th>SaleCondition_Normal</th>\n      <th>SaleCondition_Partial</th>\n      <th>SaleCondition_nan</th>\n    </tr>\n  </thead>\n  <tbody>\n    <tr>\n      <th>0</th>\n      <td>0.067320</td>\n      <td>-0.184443</td>\n      <td>-0.217841</td>\n      <td>0.646073</td>\n      <td>-0.507197</td>\n      <td>1.046078</td>\n      <td>0.896679</td>\n      <td>0.523038</td>\n      <td>0.580708</td>\n      <td>-0.29303</td>\n      <td>...</td>\n      <td>0</td>\n      <td>1</td>\n      <td>0</td>\n      <td>0</td>\n      <td>0</td>\n      <td>0</td>\n      <td>0</td>\n      <td>1</td>\n      <td>0</td>\n      <td>0</td>\n    </tr>\n    <tr>\n      <th>1</th>\n      <td>-0.873466</td>\n      <td>0.458096</td>\n      <td>-0.072032</td>\n      <td>-0.063174</td>\n      <td>2.187904</td>\n      <td>0.154737</td>\n      <td>-0.395536</td>\n      <td>-0.569893</td>\n      <td>1.177709</td>\n      <td>-0.29303</td>\n      <td>...</td>\n      <td>0</td>\n      <td>1</td>\n      <td>0</td>\n      <td>0</td>\n      <td>0</td>\n      <td>0</td>\n      <td>0</td>\n      <td>1</td>\n      <td>0</td>\n      <td>0</td>\n    </tr>\n    <tr>\n      <th>2</th>\n      <td>0.067320</td>\n      <td>-0.055935</td>\n      <td>0.137173</td>\n      <td>0.646073</td>\n      <td>-0.507197</td>\n      <td>0.980053</td>\n      <td>0.848819</td>\n      <td>0.333448</td>\n      <td>0.097840</td>\n      <td>-0.29303</td>\n      <td>...</td>\n      <td>0</td>\n      <td>1</td>\n      <td>0</td>\n      <td>0</td>\n      <td>0</td>\n      <td>0</td>\n      <td>0</td>\n      <td>1</td>\n      <td>0</td>\n      <td>0</td>\n    </tr>\n    <tr>\n      <th>3</th>\n      <td>0.302516</td>\n      <td>-0.398622</td>\n      <td>-0.078371</td>\n      <td>0.646073</td>\n      <td>-0.507197</td>\n      <td>-1.859033</td>\n      <td>-0.682695</td>\n      <td>-0.569893</td>\n      <td>-0.494771</td>\n      <td>-0.29303</td>\n      <td>...</td>\n      <td>0</td>\n      <td>1</td>\n      <td>0</td>\n      <td>1</td>\n      <td>0</td>\n      <td>0</td>\n      <td>0</td>\n      <td>0</td>\n      <td>0</td>\n      <td>0</td>\n    </tr>\n    <tr>\n      <th>4</th>\n      <td>0.067320</td>\n      <td>0.629439</td>\n      <td>0.518814</td>\n      <td>1.355319</td>\n      <td>-0.507197</td>\n      <td>0.947040</td>\n      <td>0.753100</td>\n      <td>1.381770</td>\n      <td>0.468770</td>\n      <td>-0.29303</td>\n      <td>...</td>\n      <td>0</td>\n      <td>1</td>\n      <td>0</td>\n      <td>0</td>\n      <td>0</td>\n      <td>0</td>\n      <td>0</td>\n      <td>1</td>\n      <td>0</td>\n      <td>0</td>\n    </tr>\n    <tr>\n      <th>...</th>\n      <td>...</td>\n      <td>...</td>\n      <td>...</td>\n      <td>...</td>\n      <td>...</td>\n      <td>...</td>\n      <td>...</td>\n      <td>...</td>\n      <td>...</td>\n      <td>...</td>\n      <td>...</td>\n      <td>...</td>\n      <td>...</td>\n      <td>...</td>\n      <td>...</td>\n      <td>...</td>\n      <td>...</td>\n      <td>...</td>\n      <td>...</td>\n      <td>...</td>\n      <td>...</td>\n    </tr>\n    <tr>\n      <th>1454</th>\n      <td>2.419286</td>\n      <td>-2.069222</td>\n      <td>-1.043758</td>\n      <td>-1.481667</td>\n      <td>1.289537</td>\n      <td>-0.043338</td>\n      <td>-0.682695</td>\n      <td>-0.569893</td>\n      <td>-0.968860</td>\n      <td>-0.29303</td>\n      <td>...</td>\n      <td>0</td>\n      <td>1</td>\n      <td>0</td>\n      <td>0</td>\n      <td>0</td>\n      <td>0</td>\n      <td>0</td>\n      <td>1</td>\n      <td>0</td>\n      <td>0</td>\n    </tr>\n    <tr>\n      <th>1455</th>\n      <td>2.419286</td>\n      <td>-2.069222</td>\n      <td>-1.049083</td>\n      <td>-1.481667</td>\n      <td>-0.507197</td>\n      <td>-0.043338</td>\n      <td>-0.682695</td>\n      <td>-0.569893</td>\n      <td>-0.415757</td>\n      <td>-0.29303</td>\n      <td>...</td>\n      <td>0</td>\n      <td>1</td>\n      <td>0</td>\n      <td>1</td>\n      <td>0</td>\n      <td>0</td>\n      <td>0</td>\n      <td>0</td>\n      <td>0</td>\n      <td>0</td>\n    </tr>\n    <tr>\n      <th>1456</th>\n      <td>-0.873466</td>\n      <td>3.884968</td>\n      <td>1.246594</td>\n      <td>-0.772420</td>\n      <td>1.289537</td>\n      <td>-0.373465</td>\n      <td>0.561660</td>\n      <td>-0.569893</td>\n      <td>1.717643</td>\n      <td>-0.29303</td>\n      <td>...</td>\n      <td>0</td>\n      <td>1</td>\n      <td>0</td>\n      <td>1</td>\n      <td>0</td>\n      <td>0</td>\n      <td>0</td>\n      <td>0</td>\n      <td>0</td>\n      <td>0</td>\n    </tr>\n    <tr>\n      <th>1457</th>\n      <td>0.655311</td>\n      <td>-0.312950</td>\n      <td>0.034599</td>\n      <td>-0.772420</td>\n      <td>-0.507197</td>\n      <td>0.682939</td>\n      <td>0.370221</td>\n      <td>-0.569893</td>\n      <td>-0.229194</td>\n      <td>-0.29303</td>\n      <td>...</td>\n      <td>0</td>\n      <td>1</td>\n      <td>0</td>\n      <td>0</td>\n      <td>0</td>\n      <td>0</td>\n      <td>0</td>\n      <td>1</td>\n      <td>0</td>\n      <td>0</td>\n    </tr>\n    <tr>\n      <th>1458</th>\n      <td>0.067320</td>\n      <td>0.201080</td>\n      <td>-0.068608</td>\n      <td>0.646073</td>\n      <td>-0.507197</td>\n      <td>0.715952</td>\n      <td>0.465941</td>\n      <td>-0.045732</td>\n      <td>0.694840</td>\n      <td>-0.29303</td>\n      <td>...</td>\n      <td>0</td>\n      <td>1</td>\n      <td>0</td>\n      <td>0</td>\n      <td>0</td>\n      <td>0</td>\n      <td>0</td>\n      <td>1</td>\n      <td>0</td>\n      <td>0</td>\n    </tr>\n  </tbody>\n</table>\n<p>2919 rows × 331 columns</p>\n</div>"
     },
     "execution_count": 68,
     "metadata": {},
     "output_type": "execute_result"
    }
   ],
   "source": [
    "all_features"
   ]
  },
  {
   "cell_type": "code",
   "execution_count": 69,
   "id": "11494666",
   "metadata": {},
   "outputs": [],
   "source": [
    "#将数据转化为张量格式\n",
    "n_train = train_data.shape[0]\n",
    "train_features = torch.tensor(all_features[:n_train].values,dtype = torch.float32)\n",
    "test_features = torch.tensor(all_features[n_train:].values,dtype = torch.float32)\n",
    "train_labels = torch.tensor(train_data.SalePrice.values.reshape(-1,1),dtype=torch.float32)"
   ]
  },
  {
   "cell_type": "code",
   "execution_count": 70,
   "id": "2e9ea8bf",
   "metadata": {},
   "outputs": [
    {
     "data": {
      "text/plain": "torch.Size([1460, 331])"
     },
     "execution_count": 70,
     "metadata": {},
     "output_type": "execute_result"
    }
   ],
   "source": [
    "train_features.shape"
   ]
  },
  {
   "cell_type": "code",
   "execution_count": 71,
   "id": "018d0e9b",
   "metadata": {},
   "outputs": [
    {
     "data": {
      "text/plain": "torch.Size([1460, 1])"
     },
     "execution_count": 71,
     "metadata": {},
     "output_type": "execute_result"
    }
   ],
   "source": [
    "train_labels.shape"
   ]
  },
  {
   "cell_type": "code",
   "execution_count": 72,
   "id": "6f4a0741",
   "metadata": {},
   "outputs": [],
   "source": [
    "#区分训练集和测试机\n",
    "msk = np.random.random(len(train_features)) < 0.8\n",
    "#用80%的数据做训练集, 20%做测试集\n",
    "train_alldatas = train_features\n",
    "train_alllabels = train_labels\n",
    "test_alldatas = test_features\n",
    "train_datas = train_features[msk]\n",
    "test_datas = train_features[~msk]\n",
    "labels = train_labels\n",
    "train_labels = labels[msk]\n",
    "test_labels = labels[~msk]\n",
    "#train_datas 划分完的train 百分之80\n",
    "#train_labels\n",
    "#train_alldatas 所有的train\n",
    "#train_data 包含标签的所有的data"
   ]
  },
  {
   "cell_type": "markdown",
   "id": "516b1898",
   "metadata": {},
   "source": [
    "# 网络模型设计"
   ]
  },
  {
   "cell_type": "code",
   "execution_count": 73,
   "id": "e531353f",
   "metadata": {},
   "outputs": [],
   "source": [
    "#损失函数和网络\n",
    "loss = nn.MSELoss()\n",
    "in_features  = train_features.shape[1]\n",
    "\n",
    "def get_net():\n",
    "    net = nn.Sequential(nn.Linear(in_features,256),nn.ReLU(),nn.Linear(256,1))\n",
    "    return net\n",
    "    \n",
    "# 降低房价误差大对模型的影响，即房价高的房子，预测值和实际值误差肯定比房价低的高，从而导致房价高的房子的权重更高。\n",
    "# 于是考虑将误差转为百分比表示，真实值-预测值/真实值\n",
    "def log_rmse(net, features, labels):\n",
    "    # 为了在取对数时进一步稳定该值，将小于1的值设置为1\n",
    "    clipped_preds = torch.clamp(net(features), 1, float('inf'))\n",
    "    # torch.clamp将元素值压缩到1到无穷，这样做log都是正数，计算预测值的log与实际值的log的损失\n",
    "    rmse = torch.sqrt(loss(torch.log(clipped_preds),\n",
    "                           torch.log(labels)))\n",
    "    return rmse.item()"
   ]
  },
  {
   "cell_type": "code",
   "execution_count": 74,
   "id": "b7c8a7db",
   "metadata": {},
   "outputs": [],
   "source": [
    "#训练网络\n",
    "def train(net, train_datas, train_labels, test_datas, test_labels,\n",
    "          num_epochs, learning_rate, weight_decay, batch_size):\n",
    "    train_ls, test_ls = [], []\n",
    "    train_iter = d2l.load_array((train_datas, train_labels), batch_size)\n",
    "    # 这里使用的是Adam优化算法\n",
    "    optimizer = torch.optim.Adam(net.parameters(),\n",
    "                                 lr = learning_rate,\n",
    "                                 weight_decay = weight_decay)\n",
    "    for epoch in range(num_epochs):\n",
    "        for X, y in train_iter:\n",
    "            optimizer.zero_grad()\n",
    "            l = loss(net(X), y)\n",
    "            l.backward()\n",
    "            optimizer.step()\n",
    "        train_ls.append(log_rmse(net, train_datas, train_labels))\n",
    "        if test_labels is not None:\n",
    "            test_ls.append(log_rmse(net, test_datas, test_labels))\n",
    "    return train_ls, test_ls\n"
   ]
  },
  {
   "cell_type": "code",
   "execution_count": 75,
   "id": "d1cbb3b5",
   "metadata": {},
   "outputs": [],
   "source": [
    "# K折交叉验证\n",
    "# 交叉验证既可以解决数据集的数据量不够大问题，也可以解决参数调优的问题\n",
    "def get_k_fold_data(k, i, X, y):\n",
    "    # i:当前第几折\n",
    "    # k肯定大于1，小于则报错\n",
    "    assert k > 1\n",
    "    # “//”是一个算术运算符，表示整数除法，它可以返回商的整数部分（向下取整）。\n",
    "    # 不管分为几折和测试数据有多少个，都不会出现小数\n",
    "    fold_size = X.shape[0] // k\n",
    "    X_train, y_train = None, None\n",
    "    for j in range(k):\n",
    "        idx = slice(j*fold_size,(j+1)*fold_size)\n",
    "        X_part, y_part = X[idx, :], y[idx]\n",
    "        if j == i:\n",
    "        # 当前折扣和i相等，则表明到了验证集部分，设定验证集\n",
    "            X_valid, y_valid = X_part, y_part\n",
    "        # train是None，说明还未赋值过，则将分割的赋值\n",
    "        elif X_train is None:\n",
    "            X_train, y_train = X_part, y_part\n",
    "        # 否则将train和part合并\n",
    "        else:\n",
    "            X_train = torch.cat([X_train, X_part], 0)\n",
    "            y_train = torch.cat([y_train, y_part], 0)\n",
    "    return X_train, y_train, X_valid, y_valid\n",
    "\n",
    "\n",
    "# 在K折交叉验证中训练次后，返回训练和验证误差的平均值。\n",
    "def k_fold(k, X_train, y_train, num_epochs, learning_rate, weight_decay,\n",
    "           batch_size):\n",
    "    train_l_sum, valid_l_sum = 0, 0\n",
    "    for i in range(k):\n",
    "        data = get_k_fold_data(k, i, X_train, y_train)\n",
    "        net = get_net()\n",
    "        train_ls, valid_ls = train(net, *data, num_epochs, learning_rate,\n",
    "                                   weight_decay, batch_size)\n",
    "        train_l_sum += train_ls[-1]\n",
    "        valid_l_sum += valid_ls[-1]\n",
    "        if i == 0:\n",
    "            d2l.plot(list(range(1, num_epochs + 1)), [train_ls, valid_ls],\n",
    "                     xlabel='epoch', ylabel='rmse', xlim=[1, num_epochs],\n",
    "                     legend=['train', 'valid'], yscale='log')\n",
    "        print(f'折{i + 1}，训练log rmse{float(train_ls[-1]):f}, '\n",
    "              f'验证log rmse{float(valid_ls[-1]):f}')\n",
    "    return train_l_sum / k, valid_l_sum / k\n"
   ]
  },
  {
   "cell_type": "code",
   "execution_count": 76,
   "id": "0f13896f",
   "metadata": {},
   "outputs": [],
   "source": [
    "# 提交预测结果\n",
    "def train_and_pred(train_datas, test_datas, train_labels, test_labels,\n",
    "                   num_epochs, lr, weight_decay, batch_size):\n",
    "    net = get_net()\n",
    "    train_ls, test_ls = train(net, train_datas, train_labels, test_datas, test_labels,\n",
    "                        num_epochs, lr, weight_decay, batch_size)\n",
    "    #d2l.plot(np.arange(1, num_epochs + 1), [train_ls], xlabel='epoch',\n",
    "             #ylabel='trian log rmse', xlim=[1, num_epochs], yscale='log')\n",
    "    #训练视图\n",
    "    plt.plot(np.arange(1, num_epochs + 1), train_ls)\n",
    "    plt.xlabel('epoch')\n",
    "    plt.ylabel('train log rmse')\n",
    "    plt.xlim([1, num_epochs])\n",
    "    plt.yscale('log')\n",
    "    plt.title({float(train_ls[-1])})\n",
    "     #图片保存\n",
    "    now = datetime.datetime.now()\n",
    "    now = now.strftime(\"%H_%M_%S\")\n",
    "    path = 'data/'+now+'_train'\n",
    "    path = path+'.png'\n",
    "    plt.savefig(path,bbox_inches = 'tight')\n",
    "    plt.show()\n",
    "\n",
    "    #测试视图\n",
    "    plt.plot(np.arange(1, num_epochs + 1), test_ls)\n",
    "    plt.xlabel('epoch')\n",
    "    plt.ylabel('test log rmse')\n",
    "    plt.xlim([1, num_epochs])\n",
    "    plt.yscale('log')\n",
    "    plt.title({float(test_ls[-1])})\n",
    "    #图片保存\n",
    "    now = datetime.datetime.now()\n",
    "    now = now.strftime(\"%H_%M_%S\")\n",
    "    path = 'data/'+now+'_test'\n",
    "    path = path+'.png'\n",
    "    plt.savefig(path,bbox_inches = 'tight')\n",
    "    plt.show()\n",
    "\n",
    "    print(f'训练log rmse：{float(train_ls[-1]):f}')\n",
    "    print(f'验证log rmse：{float(test_ls[-1]):f}')\n",
    "\n",
    "    preds=net(test_features).detach().numpy()\n",
    "\n",
    "    test_data['SalePrice']=pd.Series(preds.reshape(1,-1)[0])\n",
    "    submission=pd.concat([test_data['Id'],test_data['SalePrice']],axis=1)\n",
    "    submission.to_csv('./submission.csv',index=False)\n"
   ]
  },
  {
   "cell_type": "code",
   "execution_count": 77,
   "id": "26cd3a9a",
   "metadata": {},
   "outputs": [
    {
     "data": {
      "text/plain": "<Figure size 640x480 with 1 Axes>",
      "image/png": "[encoded data removed]"
     },
     "metadata": {},
     "output_type": "display_data"
    },
    {
     "data": {
      "text/plain": "<Figure size 640x480 with 1 Axes>",
      "image/png": "[encoded data removed]"
     },
     "metadata": {},
     "output_type": "display_data"
    },
    {
     "name": "stdout",
     "output_type": "stream",
     "text": [
      "训练log rmse：0.126122\n",
      "验证log rmse：0.114413\n"
     ]
    }
   ],
   "source": [
    "#预测\n",
    "k,num_epochs,lr,weight_decay,batch_size=8,10,0.1,300,64\n",
    "train_and_pred(train_datas, test_datas, train_labels, test_labels,\n",
    "               num_epochs, lr, weight_decay, batch_size)"
   ]
  },
  {
   "cell_type": "code",
   "execution_count": 78,
   "id": "1876c175",
   "metadata": {},
   "outputs": [],
   "source": [
    "#模型选择\n",
    "k,num_epochs,lr,weight_decay,batch_size=8,100,0.1,300,64\n",
    "#train_l,valid_l=k_fold(k,train_alldatas,train_alllabels,num_epochs,lr,weight_decay,batch_size)\n",
    "#print('%d-fold validation:avg trian rmse %f,avg valid rmse %f'%\n",
    " #     (k,train_l,valid_l))"
   ]
  },
  {
   "cell_type": "markdown",
   "id": "7470f0e7",
   "metadata": {},
   "source": []
  },
  {
   "cell_type": "markdown",
   "id": "aad03cb2",
   "metadata": {},
   "source": []
  },
  {
   "cell_type": "code",
   "execution_count": 80,
   "id": "d03822c1",
   "metadata": {},
   "outputs": [
    {
     "data": {
      "text/plain": "0.10840561240911484"
     },
     "execution_count": 80,
     "metadata": {},
     "output_type": "execute_result"
    }
   ],
   "source": [
    "net = get_net()\n",
    "for i in range(1000):\n",
    "    train_l,test_l = train(net, train_datas, train_labels, test_datas, test_labels,\n",
    "                        num_epochs, lr, weight_decay, batch_size)\n",
    "    if(i==0):\n",
    "        min_test_l = test_l\n",
    "        #如果当前结果较以前更优秀 保存结果\n",
    "        preds=net(test_features).detach().numpy()\n",
    "\n",
    "        test_data['SalePrice']=pd.Series(preds.reshape(1,-1)[0])\n",
    "        submission=pd.concat([test_data['Id'],test_data['SalePrice']],axis=1)\n",
    "        submission.to_csv('./submission.csv',index=False)\n",
    "\n",
    "    if(test_l[-1]<min_test_l[-1]):\n",
    "        min_test_l = test_l\n",
    "        print(min_test_l[-1])\n",
    "        #如果当前结果较以前更优秀 保存结果\n",
    "        preds=net(test_features).detach().numpy()\n",
    "\n",
    "        test_data['SalePrice']=pd.Series(preds.reshape(1,-1)[0])\n",
    "        submission=pd.concat([test_data['Id'],test_data['SalePrice']],axis=1)\n",
    "        submission.to_csv('./submission.csv',index=False)\n",
    "min_test_l[-1]"
   ]
  },
  {
   "cell_type": "code",
   "execution_count": null,
   "id": "c9d41858",
   "metadata": {},
   "outputs": [],
   "source": []
  },
  {
   "cell_type": "code",
   "execution_count": null,
   "id": "680e2665",
   "metadata": {},
   "outputs": [],
   "source": []
  }
 ],
 "metadata": {
  "kernelspec": {
   "name": "pytorch1",
   "language": "python",
   "display_name": "Python (pytorch1)"
  },
  "language_info": {
   "codemirror_mode": {
    "name": "ipython",
    "version": 3
   },
   "file_extension": ".py",
   "mimetype": "text/x-python",
   "name": "python",
   "nbconvert_exporter": "python",
   "pygments_lexer": "ipython3",
   "version": "3.9.13"
  }
 },
 "nbformat": 4,
 "nbformat_minor": 5
}